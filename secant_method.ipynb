{
 "cells": [
  {
   "cell_type": "markdown",
   "metadata": {},
   "source": [
    "## Secant Method\n",
    "\n",
    "__MATH 420__ <br>\n",
    "_Spring 2021_ <br>\n",
    "Section 2.4 <br>\n",
    "\n",
    "\n",
    "Here is simple code for the secant method. We default the tolerance `tol` to $64$ times the machine epsilon of the initial guess $x_0$ and the maximum number of iterations `maxiter` to 1000. Both `tol` and `maxiter` are keyword arguments.\n",
    "\n",
    "We'll stop when $f(x_k)$ is sufficiently samll.  For small, we'll use `!isapprox(f1,0, atol = tol, rtol=0)`.\n",
    "\n",
    "We'll default the second initial guess for the zero to $x_0 + f(x_0)$. There isn't much mathematical logic behind this choice. But when $f(x_0)$ is small (and presumably $x_0$ is close to the true zero), we have $x_1$ close to $x_0$. It seems reasonable to choose $x_1$ close to $x_0$ when  $f(x_0)$ is small.\n",
    "\n",
    "Each time through the loop, we compute only one new value for the function."
   ]
  },
  {
   "cell_type": "code",
   "execution_count": null,
   "metadata": {},
   "outputs": [],
   "source": [
    "function secant_method(f::Function,x0::Number,x1::Number = x0 + f(x0); tol = 64*eps(typeof(x0)), maxiter::Integer = 1000)\n",
    "    f0 = f(x0)\n",
    "    f1 = f(x1) \n",
    "    while !isapprox(f1,0.0, atol = tol, rtol=0) && !isnan(x1) && maxiter > 0 # early stop when x1 = NaN\n",
    "        maxiter -= 1\n",
    "        xx = x1 - f1 * (x1 - x0) / (f1 - f0) \n",
    "        (x0,x1,f0,f1) = (x1,xx,f1,f(xx)) \n",
    "    end    \n",
    "    # error when too many iterations; otherwise, return the midpoint\n",
    "    if maxiter <= 0\n",
    "        error(\"secant_method: Exceeded maximum number of iterations.\")    \n",
    "    else     \n",
    "       x1\n",
    "    end\n",
    "end;"
   ]
  },
  {
   "cell_type": "markdown",
   "metadata": {},
   "source": [
    "Let's look for zeros of the function $x \\mapsto x \\exp(x) - 107$.  First, a graphical study--it looks like there is a zero that is very close to one."
   ]
  },
  {
   "cell_type": "code",
   "execution_count": null,
   "metadata": {},
   "outputs": [],
   "source": [
    "F = x -> x*exp(x) - 107"
   ]
  },
  {
   "cell_type": "code",
   "execution_count": null,
   "metadata": {},
   "outputs": [],
   "source": [
    "using Gadfly"
   ]
  },
  {
   "cell_type": "code",
   "execution_count": null,
   "metadata": {
    "scrolled": true
   },
   "outputs": [],
   "source": [
    "plot(F,0,5)"
   ]
  },
  {
   "cell_type": "markdown",
   "metadata": {},
   "source": [
    "There is a zero between $3$ and $4$. Let's try several values for the two initial values of the secant sequence."
   ]
  },
  {
   "cell_type": "code",
   "execution_count": null,
   "metadata": {},
   "outputs": [],
   "source": [
    " secant_method(F, 0.0, 3.0)"
   ]
  },
  {
   "cell_type": "code",
   "execution_count": null,
   "metadata": {},
   "outputs": [],
   "source": [
    " secant_method(F, -1.5, 2.0)"
   ]
  },
  {
   "cell_type": "raw",
   "metadata": {},
   "source": [
    "Example of slow convergence"
   ]
  },
  {
   "cell_type": "code",
   "execution_count": null,
   "metadata": {},
   "outputs": [],
   "source": [
    " secant_method(F, 1.2, 1.003, maxiter=10^4)"
   ]
  },
  {
   "cell_type": "code",
   "execution_count": null,
   "metadata": {},
   "outputs": [],
   "source": [
    " secant_method(F, 1.2, 1.003, maxiter=10^6)"
   ]
  },
  {
   "cell_type": "raw",
   "metadata": {},
   "source": [
    "We might like to save the terms of the sequence and plot them.  No problem--we'll write a specialized version of the secant method that does this"
   ]
  },
  {
   "cell_type": "code",
   "execution_count": null,
   "metadata": {},
   "outputs": [],
   "source": [
    "function secant_sequence(f::Function,x0::Number,x1::Number = x0 + f(x0); tol = 64*eps(typeof(x0)), maxiter::Integer = 1000)\n",
    "    f0 = f(x0)\n",
    "    f1 = f(x1) \n",
    "    pts = []\n",
    "    push!(pts, x0)\n",
    "    push!(pts, x1)\n",
    "    while !isapprox(f1,0.0, atol = tol, rtol=0) && !isnan(x1) && maxiter > 0 # early stop when x1 = NaN\n",
    "        maxiter -= 1\n",
    "        xx = x1 - f1 * (x1 - x0) / (f1 - f0) \n",
    "        (x0,x1,f0,f1) = (x1,xx,f1,f(xx)) \n",
    "        push!(pts,x1)\n",
    "    end    \n",
    "    # error when too many iterations; otherwise, return the midpoint\n",
    "    if maxiter <= 0\n",
    "        error(\"secant_method: Exceeded maximum number of iterations.\")    \n",
    "    else     \n",
    "       pts\n",
    "    end\n",
    "end;"
   ]
  },
  {
   "cell_type": "code",
   "execution_count": null,
   "metadata": {},
   "outputs": [],
   "source": [
    "xx = secant_sequence(F, 2.0, 18.0)"
   ]
  },
  {
   "cell_type": "code",
   "execution_count": null,
   "metadata": {},
   "outputs": [],
   "source": [
    "n = length(xx)"
   ]
  },
  {
   "cell_type": "raw",
   "metadata": {},
   "source": [
    "To plot the sequence, construct an array of the inputs"
   ]
  },
  {
   "cell_type": "code",
   "execution_count": null,
   "metadata": {},
   "outputs": [],
   "source": [
    "xpts = [k for k = 1 : n];"
   ]
  },
  {
   "cell_type": "markdown",
   "metadata": {},
   "source": [
    "The graph wobbles a bit, then approaches its asymptote fairly quickly:"
   ]
  },
  {
   "cell_type": "code",
   "execution_count": null,
   "metadata": {},
   "outputs": [],
   "source": [
    "plot(x=xpts, y=xx)"
   ]
  },
  {
   "cell_type": "raw",
   "metadata": {},
   "source": [
    "Let's test if $E(k+2) = q E(k) E(k+1)$ is approximately correct for large k, where $q = f^{\\prime\\prime} (z) /(2 f'(z))$ and $z$ is zero the zero of $f$. For our case $z \\approx  3.437952688840655$"
   ]
  },
  {
   "cell_type": "code",
   "execution_count": null,
   "metadata": {},
   "outputs": [],
   "source": [
    "xf = last(xx)"
   ]
  },
  {
   "cell_type": "code",
   "execution_count": null,
   "metadata": {},
   "outputs": [],
   "source": [
    "e = [xx[k] - xf for k = 1 : n];"
   ]
  },
  {
   "cell_type": "code",
   "execution_count": null,
   "metadata": {},
   "outputs": [],
   "source": [
    "ee = [e[k+2]/(e[k] * e[k+1]) for k = 1 : n-2]"
   ]
  },
  {
   "cell_type": "code",
   "execution_count": null,
   "metadata": {
    "scrolled": true
   },
   "outputs": [],
   "source": [
    "plot(x=xpts[1:n-2], y=ee)"
   ]
  },
  {
   "cell_type": "markdown",
   "metadata": {},
   "source": [
    "Let's check the value of $f^{\\prime\\prime} (z) /(2 f^\\prime (z))$ where $z =  3.437952688840655 $. We could do this calculation by hand, but computing derivatives is easy using Julia's `ForwardDiff` package."
   ]
  },
  {
   "cell_type": "code",
   "execution_count": null,
   "metadata": {},
   "outputs": [],
   "source": [
    "using ForwardDiff"
   ]
  },
  {
   "cell_type": "code",
   "execution_count": null,
   "metadata": {},
   "outputs": [],
   "source": [
    "dF = x -> ForwardDiff.derivative(F, x)"
   ]
  },
  {
   "cell_type": "code",
   "execution_count": null,
   "metadata": {},
   "outputs": [],
   "source": [
    "ddF = x -> ForwardDiff.derivative(dF, x)"
   ]
  },
  {
   "cell_type": "code",
   "execution_count": null,
   "metadata": {},
   "outputs": [],
   "source": [
    "xf"
   ]
  },
  {
   "cell_type": "code",
   "execution_count": null,
   "metadata": {},
   "outputs": [],
   "source": [
    "(ddF(xf)/(2 * dF(xf)))\n"
   ]
  },
  {
   "cell_type": "markdown",
   "metadata": {},
   "source": [
    "Looking at the values of the array `ee,` the values match the theoretical value farily well."
   ]
  },
  {
   "cell_type": "markdown",
   "metadata": {},
   "source": [
    "Bigfloat inputs are no problem--the same code works for `BigFloat` numbers. Here is a case the convergence is so fast there are identical consecutive terms. That gives a division by zero error and returns a `NaN`. We should modify the stopping condition to eliminate such division by zero errors."
   ]
  },
  {
   "cell_type": "code",
   "execution_count": null,
   "metadata": {},
   "outputs": [],
   "source": [
    "xx = secant_sequence(F, BigFloat(\"3.0\"), BigFloat(\"4.0\"))"
   ]
  },
  {
   "cell_type": "code",
   "execution_count": null,
   "metadata": {},
   "outputs": [],
   "source": [
    "xpts = [k for k = 1 : length(xx)];"
   ]
  },
  {
   "cell_type": "code",
   "execution_count": null,
   "metadata": {
    "scrolled": false
   },
   "outputs": [],
   "source": [
    "plot(x=xpts, y=xx)"
   ]
  },
  {
   "cell_type": "markdown",
   "metadata": {},
   "source": [
    "A trcky case: The true zero is 2, but the function of is very close to 0 in a largish neighborhood of 2."
   ]
  },
  {
   "cell_type": "code",
   "execution_count": null,
   "metadata": {},
   "outputs": [],
   "source": [
    "G = x -> (x-2)^42"
   ]
  },
  {
   "cell_type": "code",
   "execution_count": null,
   "metadata": {},
   "outputs": [],
   "source": [
    "plot(G,1,3)"
   ]
  },
  {
   "cell_type": "code",
   "execution_count": null,
   "metadata": {},
   "outputs": [],
   "source": [
    "plot(G,1.5,2.5)"
   ]
  },
  {
   "cell_type": "raw",
   "metadata": {},
   "source": [
    "With the default value of the tolerace, and using initial values of 1.5 anbd 2.2, we get immediate convergence"
   ]
  },
  {
   "cell_type": "code",
   "execution_count": null,
   "metadata": {},
   "outputs": [],
   "source": [
    "xxx = secant_method(G, 1.5, 2.2)"
   ]
  },
  {
   "cell_type": "raw",
   "metadata": {},
   "source": [
    "Sure, we can reduce the tolerance, but we can get division by zero errors"
   ]
  },
  {
   "cell_type": "code",
   "execution_count": null,
   "metadata": {},
   "outputs": [],
   "source": [
    "xxx = secant_method(G, 1.5, 2.5, tol=1.0e-13)"
   ]
  },
  {
   "cell_type": "markdown",
   "metadata": {},
   "source": [
    "This works, more-or-less, but even with a tolerance of $10^{-100}$ we get a value for the zero that differs from the true value by about $0.005$"
   ]
  },
  {
   "cell_type": "code",
   "execution_count": null,
   "metadata": {},
   "outputs": [],
   "source": [
    "xxx = secant_method(G, 1.5, 3.0, tol=1.0e-100)"
   ]
  },
  {
   "cell_type": "markdown",
   "metadata": {},
   "source": [
    "What's the story?  For the function $F = x \\mapsto (x-2)^{42}$, we have  $F(2) = 0 $ and $F^\\prime(2) = 0$. Because of this, we say that $2$ is a _degenerate zero_ of $F$. Our result that $E(k+2) = q E(k) E(k+1)$ is approximately correct for large $k$ makes the assumption that the zero isn't degenerate.\n"
   ]
  },
  {
   "cell_type": "code",
   "execution_count": null,
   "metadata": {},
   "outputs": [],
   "source": []
  }
 ],
 "metadata": {
  "kernelspec": {
   "display_name": "Julia 1.5.3",
   "language": "julia",
   "name": "julia-1.5"
  },
  "language_info": {
   "file_extension": ".jl",
   "mimetype": "application/julia",
   "name": "julia",
   "version": "1.5.3"
  }
 },
 "nbformat": 4,
 "nbformat_minor": 2
}
