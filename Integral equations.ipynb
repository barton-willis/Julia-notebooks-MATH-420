{
 "cells": [
  {
   "cell_type": "raw",
   "metadata": {},
   "source": [
    "\\section*{Lesson 4}\n",
    "\n",
    "Given functions \\(g\\) and \\(K\\), our problem is to find a function \\(F\\) such that for all \\(x \\in [0,1] \\), we have\n",
    "\\begin{equation}\n",
    "   F(x) = g(x) + \\int_0^1 K(x,y) F(y) \\, \\mathrm{d} y.\n",
    "\\end{equation}\n",
    "The function \\(g\\) is a function of one  variable and \\(K\\) is a function of two variables. The unknown is the function \\(F\\).  The function \\(K\\) is called  the \\emph{kernel} of the equation.  We'll call this equation a  \\emph{Fredholm integral equation} (Erik Ivar Fredholm (1866 -- 1927).  These equations have applications ranging from radiative transfer in planetary atmospheres to Actuarial science.\n",
    "\n",
    "Unless the kernel has a special form, finding a solution in terms of named functions is usually impossible. If you would like to know something about kernels that allow for a solution method, watch \\url{https://www.youtube.com/watch?v=rCWzF1yvZlQ}.  But watching this video is \\emph{optional}.  \n",
    "\n",
    "An example of a kernel that allows for us to find a solution is \\(K(x,y) = \\mu x y\\), where \\(\\mu\\) is a real number. \n",
    "If you watch the (optional) video, you'll learn the secret of how to find this solution. Assuming \\(\\mu \\neq 3\\), the solution to\n",
    "\\begin{equation}\n",
    "   F(x) = g(x) + \\int_0^1 \\mu x y F(y) \\, \\mathrm{d} y,\n",
    "\\end{equation}\n",
    "is \n",
    "\\begin{equation}\n",
    "   F(x) = g(x) + \\frac{3 \\mu x}{3-\\mu} \\int_0^1 y g(y) \\, \\mathrm{d} y,\n",
    "\\end{equation}\n",
    "When \\(\\mu=3\\), depending on a property of \\(g\\), either the solution isn't unique or it doesn't exist. Specifically  for \\(\\mu=1\\) and \\(g(x) = 1-x/2\\), the solution is \n",
    "\\begin{equation}\n",
    "   F(x) = 1.\n",
    "\\end{equation}\n",
    "\n",
    "\n",
    "Since most kernels don't have a special form that allows for a solution in terms of named functions,  we'll invent a way to find an approximate numerical solution. \n",
    "\n",
    "One of my guiding principles is to not look for things that don't exist, because doing so takes too much time. So we really should have some theory about when there is such a function before we go looking for a solution. Our result is well known:\n",
    "\n",
    "\\vspace{0.1in}\n",
    "\n",
    "\\noindent \\textbf{Theorem}  Let \\(g : [0,1] \\to \\mathbf{R} \\) be continuous and \\(K : [0,1] \\times [0,1] \\to \\mathbf{R} \\) be continuous. If\n",
    "\\[\n",
    "      \\underset{x \\in [0,1]}{\\max}  \\int_0^1 \\left |K(x,y) \\right |\\, \\mathrm{d} y <  1,\n",
    "\\]  \n",
    "there is a unique continuous function \\(F :  [0,1] \\to \\mathbf{R} \\) such that for all \\(x \\in [0,1] \\), we have\n",
    "\\begin{equation}\n",
    "   F(x) = g(x) + \\int_0^1 K(x,y) F(y) \\, \\mathrm{d} y.\n",
    "\\end{equation}\n",
    "In this context, ``unique'' means \\emph{exactly} one solution (not two or more solutions). For a proof, see (for example) \\url{https://www.colorado.edu/amath/sites/default/files/attached-files/fredholm.pdf}. But reading this proof is \\emph{optional}.  \n",
    "\n",
    "Applying this result to the kernel \\(K(x,y) = \\mu x y\\), we have\n",
    "\\begin{equation}\n",
    "   \\underset{x \\in [0,1]}{\\max} \\int_0^1 | \\mu x y| \\, \\mathrm{d} y  =\n",
    "       \\underset{x \\in [0,1]}{\\max} |\\mu x| \\int_0^1 | y| \\, \\mathrm{d} y =\n",
    "       \\underset{x \\in [0,1]}{\\max} \\frac{1}{2} |\\mu x|  = \\frac{|\\mu|}{2}.\n",
    "\\end{equation} \n",
    "Provided \\(\\mu \\in (-2,2)\\), there is a unique solution. Actually, by an explicit solution method, we know that the solution exists and is unique as long as \\(\\mu \\neq 3\\). We've shown that the converse of the theorem is false--sometimes there is a unique solution even when \n",
    "\\[\n",
    "      \\underset{x \\in [0,1]}{\\max}  \\int_0^1 \\left |K(x,y) \\right |\\, \\mathrm{d} y \\geq  1.\n",
    "\\]  \n",
    "\n",
    "Our numerical method has \\emph{three} ingredients:  (i) replace the integration with a quadrature rule (ii) evaluate the equation at each knot (iii) solve the resulting linear equations for the values of the function \\(F\\) at the knots.  \n",
    "\n",
    "For example, choosing the quadrature rule to be the left point rule, for step 1, we get\n",
    "\\begin{equation}\n",
    "   F(x) \\approx g(x) + h \\sum_{i=0}^{n-1} K(x,x_i) F(x_i),\n",
    "\\end{equation}\n",
    "where \\(h = 1/n\\) and  \n",
    "\\[\n",
    "    x_i = h i,  \\quad i \\in 0 \\dots  n-1.\n",
    "\\]\n",
    "And for step 2, we substitute \\(x \\to x_j\\) into the above. This gives\n",
    "\\begin{equation}\n",
    "   F(x_j) \\approx g(x_j) + h \\sum_{i=0}^{n-1} K(x_j,x_i) F(x_i), \\quad j \\in 0 \\dots n-1\n",
    "\\end{equation}\n",
    "Defining \\(  F(x_j) = F_j\\), \\(g(x_j) = g_j\\),  and   \\( K(x_j,x_i) = K_{j,i} \\), we have\n",
    "\\begin{equation}\n",
    "   F_j  \\approx g_j  + h \\sum_{i=0}^{n-1} K_{j,i}  F(x_j), \\quad j \\in 0 \\dots n-1\n",
    "\\end{equation}\n",
    "These are linear equations for the unknowns  \\(F_j\\) with \\(j\\) ranging from  \\(0\\) to \\(n-1\\). \n",
    "For example, for \\(n = 4\\),  the equations in matrix form are\n",
    "\n",
    "\\begin{equation}\n",
    "\\begin{bmatrix}  F_0 \\\\ F_1 \\\\ F_2 \\end{bmatrix} =  \\begin{bmatrix}  g_0 \\\\ g_1 \\\\ g_2 \\end{bmatrix}\n",
    " + \\frac{1}{4} \\begin{bmatrix} K_{0,0} & K_{0,1} & K_{0,2} \\\\\n",
    "                     K_{1,0} & K_{1,1} & K_{1,2} \\\\\n",
    "                     K_{2,0} & K_{2,1} & K_{2,2}\n",
    "     \\end{bmatrix}    \n",
    "     \\begin{bmatrix}  F_0 \\\\ F_1 \\\\ F_2 \\end{bmatrix}.\n",
    " \\end{equation}\n",
    "  Great--solve these equations, and we have approximate values for the unknown at the knots.  If we need values for the unknown between the knots, we can use interpolation.  \n",
    "  \n",
    "Not so fast. How do we know that these linear equations have a solution? Here is a wonderful theorem:\n",
    "\n",
    "\\vspace{0.1in}\n",
    "\n",
    "\\noindent \\textbf{Theorem}  Let \\(M\\) be a square matrix. If \\(\\| M \\| < 1\\), the matrix \\(I - M\\) has an inverse. The matrix norm can be \\emph{any} matrix norm (the one, two, or infinity norms, for example). \n",
    "\n",
    "Applying this result to \n",
    "\\begin{equation}\n",
    "\\begin{bmatrix}  F_0 \\\\ F_1 \\\\ F_2 \\end{bmatrix} =  \\begin{bmatrix}  g_0 \\\\ g_1 \\\\ g_2 \\end{bmatrix}\n",
    " + \\frac{1}{4} \\begin{bmatrix} K_{0,0} & K_{0,1} & K_{0,2} \\\\\n",
    "                     K_{1,0} & K_{1,1} & K_{1,2} \\\\\n",
    "                     K_{2,0} & K_{2,1} & K_{2,2}\n",
    "\\end{bmatrix}    \n",
    "     \\begin{bmatrix}  F_0 \\\\ F_1 \\\\ F_2 \\end{bmatrix},\n",
    " \\end{equation}\n",
    " the linear equations have a unique solution provided\n",
    " \\begin{align*}\n",
    "     \\frac{1}{4} \\left(|K_{0,0}|  +  |K_{0,1}|   + |K_{0,2}| \\right) &< 1, \\\\\n",
    "     \\frac{1}{4} \\left(|K_{1,0}|  +  |K_{1,1}|   + |K_{1,2}| \\right) &< 1, \\\\\n",
    "     \\frac{1}{4} \\left(|K_{2,0}|  +  |K_{2,1}|   + |K_{2,2}| \\right) &< 1.\n",
    "\\end{align*}\n",
    "\n",
    "\n",
    "And approximately this is\n",
    "\\begin{align*}\n",
    "     \\int_0^1 |K(x_0,x)| \\, \\mathrm{d} x &< 1, \\\\\n",
    "    \\int_0^1  |K(x_1,x)| \\, \\mathrm{d} x &< 1, \\\\\n",
    "    \\int_0^1  |K(x_2,x)| \\, \\mathrm{d} x &< 1.\n",
    "\\end{align*}\n",
    "And that is more-or-less equivallent to \n",
    "\\[\n",
    "     \\underset{x \\in [0,1]}{\\max}   \\int_0^1 \\left |K(x,y) \\right |\\,  \\mathrm{d} y  < 1,\n",
    "\\]  \n",
    "which is exactly our theoretical requirement for a unique solution.  This is really satisfying  that the condition  for the linear equations to have a solution mimics the conditon for the integral equation to have a solution.\n",
    "\n",
    "Returning to our example and combining the column vectors for the unknown yields the linear equations\n",
    " \\begin{equation}\n",
    " \\begin{bmatrix} 1-h K_{0,0} & -h K_{0,1} & -h K_{0,2} \\\\\n",
    "                     -h K_{1,0} & 1-h K_{1,1} & -h K_{1,2} \\\\\n",
    "                     -h K_{2,0} & -h K_{2,1} & 1-h K_{2,2}\n",
    "     \\end{bmatrix}    \n",
    "     \\begin{bmatrix}  F_0 \\\\ F_1 \\\\ F_2 \\end{bmatrix} = \\begin{bmatrix}  g_0 \\\\ g_1 \\\\ g_2 \\end{bmatrix}.\n",
    " \\end{equation}\n",
    " \n",
    " Let's build a Julia function that does this.  We'll need both Gadfly and the LinearAlgebra packages. So we'll start by loading them."
   ]
  },
  {
   "cell_type": "code",
   "execution_count": null,
   "metadata": {},
   "outputs": [],
   "source": [
    "using Gadfly"
   ]
  },
  {
   "cell_type": "code",
   "execution_count": null,
   "metadata": {},
   "outputs": [],
   "source": [
    "using LinearAlgebra"
   ]
  },
  {
   "cell_type": "raw",
   "metadata": {},
   "source": [
    "First, using the left point rule (lpr); I defined a local function KK that generates the coefficient matrix and then used a list comprehension to generate the matrix."
   ]
  },
  {
   "cell_type": "code",
   "execution_count": null,
   "metadata": {},
   "outputs": [],
   "source": [
    "function solve_integral_eq_lpr(K::Function, g::Function, n::Integer)\n",
    "    h = 1/n\n",
    "    KK = (i,j) ->  if i==j 1 else 0 end  -h*K(i*h, j*h)\n",
    "    mat = [KK(i,j) for i in 0:n-1, j in 0:n-1]\n",
    "    @show(cond(mat,1))\n",
    "    X = [g(i * h) for i in 0:n-1]\n",
    "    mat \\ X\n",
    "    end;  "
   ]
  },
  {
   "cell_type": "raw",
   "metadata": {},
   "source": [
    "Second, using the right point rule (rpr) we need to remember that the knots range from 1 to \\(n\\). Thus"
   ]
  },
  {
   "cell_type": "code",
   "execution_count": null,
   "metadata": {},
   "outputs": [],
   "source": [
    "function solve_integral_eq_rpr(K::Function, g::Function, n::Integer)\n",
    "    h = 1/n\n",
    "    KK = (i,j) ->  if i==j 1 else 0 end  -h*K(i*h, j*h)\n",
    "    mat = [KK(i,j) for i in 1:n, j in 1:n]\n",
    "    @show(cond(mat,1))\n",
    "    X = [g(i * h) for i in 1:n]\n",
    "    mat \\ X\n",
    "    end;      "
   ]
  },
  {
   "cell_type": "raw",
   "metadata": {},
   "source": [
    "For both functions, we print the matrix condition number--this indicates the effect of rounding error on the solution.\n",
    "\n",
    "Let's test on a problem with a known solution; we'll choose \\(g(x) = 1- x/2\\) and \\(K(x,y) = xy\\). The unique solution of\n",
    "\\[\n",
    "    F(x) = 1 - x/2 + \\int_0^1 x y F(y) \\, \\mathrm{d} y\n",
    "\\] \n",
    "is \\(F(x) = 1\\). Let's try our methods using 15 knots."
   ]
  },
  {
   "cell_type": "code",
   "execution_count": null,
   "metadata": {},
   "outputs": [],
   "source": [
    "n = 15;"
   ]
  },
  {
   "cell_type": "code",
   "execution_count": null,
   "metadata": {},
   "outputs": [],
   "source": [
    "F = solve_integral_eq_lpr((x,y) -> x*y, x -> 1 - x/2, n);"
   ]
  },
  {
   "cell_type": "raw",
   "metadata": {},
   "source": [
    "The one norm matrix condition number (about \\(2.37 \\)) is small--that's good. The true solution is \\(F(x) = 1\\); our numerical solution sags from 1.0 to about 0.95. OK, not terrible.  Let's graph the solution.  The knots are"
   ]
  },
  {
   "cell_type": "code",
   "execution_count": null,
   "metadata": {
    "scrolled": true
   },
   "outputs": [],
   "source": [
    "X = [k/n for k in 0:n-1];"
   ]
  },
  {
   "cell_type": "code",
   "execution_count": null,
   "metadata": {
    "scrolled": true
   },
   "outputs": [],
   "source": [
    "plot(x=X,y=F)"
   ]
  },
  {
   "cell_type": "raw",
   "metadata": {},
   "source": [
    "And let's try the right point rule method--for this case, the knots range from 1 to \\(n\\)."
   ]
  },
  {
   "cell_type": "code",
   "execution_count": null,
   "metadata": {},
   "outputs": [],
   "source": [
    "X = [k/n for k in 1:n];"
   ]
  },
  {
   "cell_type": "code",
   "execution_count": null,
   "metadata": {},
   "outputs": [],
   "source": [
    "F = solve_integral_eq_rpr((x,y) -> x*y, x -> 1 - x/2, n);"
   ]
  },
  {
   "cell_type": "code",
   "execution_count": null,
   "metadata": {
    "scrolled": true
   },
   "outputs": [],
   "source": [
    "plot(x=X,y=F)"
   ]
  },
  {
   "cell_type": "raw",
   "metadata": {},
   "source": [
    "If we greatly increase the number of knots, we discover that the solution appears to converge to the constant function. \n",
    "Here is the solution with 250 knots. We should have a theoretical understanding of the convergence rate.  Another day."
   ]
  },
  {
   "cell_type": "code",
   "execution_count": null,
   "metadata": {},
   "outputs": [],
   "source": [
    "n=250;"
   ]
  },
  {
   "cell_type": "code",
   "execution_count": null,
   "metadata": {},
   "outputs": [],
   "source": [
    "X = [k/n for k in 1:n];"
   ]
  },
  {
   "cell_type": "code",
   "execution_count": null,
   "metadata": {},
   "outputs": [],
   "source": [
    "F = solve_integral_eq_rpr((x,y) -> x*y, x -> 1 - x/2, n);"
   ]
  },
  {
   "cell_type": "code",
   "execution_count": null,
   "metadata": {},
   "outputs": [],
   "source": [
    "plot(x=X,y=F)"
   ]
  },
  {
   "cell_type": "raw",
   "metadata": {},
   "source": [
    "Maybe the average of these the left point rule and the right point rule methods would work better--the averge would be the trapezoidal rule.  And that's your homework.\n",
    "\n",
    "Finally, by explicit calculation, we know that the equation \n",
    "\\begin{equation}\n",
    "   F(x) = g(x) + \\int_0^1 3 x y F(y) \\, \\mathrm{d} y,\n",
    "\\end{equation}\n",
    "does \\emph{not} have a solution.  What happens if we ask our numerical solver to solve it?  Let's see.  First we'll try 15 knots.  The matrix condition number is OK--it's just about 28.1."
   ]
  },
  {
   "cell_type": "code",
   "execution_count": null,
   "metadata": {},
   "outputs": [],
   "source": [
    "n = 15;"
   ]
  },
  {
   "cell_type": "code",
   "execution_count": null,
   "metadata": {},
   "outputs": [],
   "source": [
    "F = solve_integral_eq_lpr((x,y) -> 3*x*y, x -> 1 - x/2, n);"
   ]
  },
  {
   "cell_type": "code",
   "execution_count": null,
   "metadata": {},
   "outputs": [],
   "source": [
    "X = [k/n for k in 0:n-1];"
   ]
  },
  {
   "cell_type": "raw",
   "metadata": {},
   "source": [
    "A plot shows the solution is about linear and ranges from about 1 to 10."
   ]
  },
  {
   "cell_type": "code",
   "execution_count": null,
   "metadata": {},
   "outputs": [],
   "source": [
    "plot(x=X,y=F)"
   ]
  },
  {
   "cell_type": "raw",
   "metadata": {},
   "source": [
    "Now let's double the number of knots and try again.  The matrix condition number is now about 65, but that's still just fine."
   ]
  },
  {
   "cell_type": "code",
   "execution_count": null,
   "metadata": {},
   "outputs": [],
   "source": [
    "n=30;"
   ]
  },
  {
   "cell_type": "code",
   "execution_count": null,
   "metadata": {},
   "outputs": [],
   "source": [
    "F = solve_integral_eq_lpr((x,y) -> 3*x*y, x -> 1 - x/2, n);"
   ]
  },
  {
   "cell_type": "code",
   "execution_count": null,
   "metadata": {},
   "outputs": [],
   "source": [
    "X = [k/n for k in 0:n-1];"
   ]
  },
  {
   "cell_type": "raw",
   "metadata": {},
   "source": [
    "Again, the solution looks approximately linear, but the solution now ranges from about 1 to 20. Apparently as \\(n\\) grows, the numerical solution doesn't converge. The lesson is that a sturdy theoretical understanding of the existence of a solution is needed to keep ourselves from being duped."
   ]
  },
  {
   "cell_type": "code",
   "execution_count": null,
   "metadata": {},
   "outputs": [],
   "source": [
    "plot(x=X,y=F)"
   ]
  }
 ],
 "metadata": {
  "kernelspec": {
   "display_name": "Julia 1.5.3",
   "language": "julia",
   "name": "julia-1.5"
  },
  "language_info": {
   "file_extension": ".jl",
   "mimetype": "application/julia",
   "name": "julia",
   "version": "1.5.3"
  }
 },
 "nbformat": 4,
 "nbformat_minor": 2
}
