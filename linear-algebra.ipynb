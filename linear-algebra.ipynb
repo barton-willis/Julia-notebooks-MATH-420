{
 "cells": [
  {
   "cell_type": "markdown",
   "metadata": {},
   "source": [
    "## Linear Algebra: Solving equations\n",
    "__MATH 420__ <br>\n",
    "_Spring 2021_ <br>\n"
   ]
  },
  {
   "cell_type": "markdown",
   "metadata": {},
   "source": [
    "Let's solve a $3 \\times  3$ linear  system of equations. The coefficient matrix is a Julia array; to enter it by hand, we write the members of each row separated with spaces (_not_ commas) and separate each row with a semicolon. Our coefficient matrix is"
   ]
  },
  {
   "cell_type": "code",
   "execution_count": null,
   "metadata": {},
   "outputs": [],
   "source": [
    "Mat = [1 2 3; 4 5 6; 7 8 19]"
   ]
  },
  {
   "cell_type": "markdown",
   "metadata": {},
   "source": [
    "Similarly we can enter the right hand side (RHS) by hand too. We'll assign `b` to the RHS"
   ]
  },
  {
   "cell_type": "code",
   "execution_count": null,
   "metadata": {},
   "outputs": [],
   "source": [
    "b = [2; 5; 10]"
   ]
  },
  {
   "cell_type": "markdown",
   "metadata": {},
   "source": [
    "We can solve the linear equations `Mat x = b` with the backslash command:"
   ]
  },
  {
   "cell_type": "code",
   "execution_count": null,
   "metadata": {},
   "outputs": [],
   "source": [
    "x  = Mat \\ b"
   ]
  },
  {
   "cell_type": "markdown",
   "metadata": {},
   "source": [
    "The result is a column vector of the solution.\n",
    "\n",
    "Let's check our work.  In Julia,the  asterisk also means matrix multiplication.  Let's find `b - Mat * x`. This difference is called the _residual_.  For the true solution, the residual is the zero vector; let's check:"
   ]
  },
  {
   "cell_type": "code",
   "execution_count": null,
   "metadata": {},
   "outputs": [],
   "source": [
    "b - Mat * x "
   ]
  },
  {
   "cell_type": "markdown",
   "metadata": {},
   "source": [
    "Super, the residual is the zero vector. Almost surely, the solution is correct.\n",
    "\n",
    "If we need to do exact rational arithmetic, we can do that. Actually, instead of using the default of `Int64` numbers, let's convert to `BigInt` numbers:"
   ]
  },
  {
   "cell_type": "code",
   "execution_count": null,
   "metadata": {},
   "outputs": [],
   "source": [
    "Mat = map(x -> convert(BigInt, x)//1,Mat)"
   ]
  },
  {
   "cell_type": "code",
   "execution_count": null,
   "metadata": {},
   "outputs": [],
   "source": [
    "b = map(x -> convert(BigInt, x) //1,b)"
   ]
  },
  {
   "cell_type": "code",
   "execution_count": null,
   "metadata": {},
   "outputs": [],
   "source": [
    "Mat \\ b"
   ]
  },
  {
   "cell_type": "markdown",
   "metadata": {},
   "source": [
    "For larger or more complex coefficient matrices, we can define a function that evaluates so the $i,j$ matrix element; a famous example:"
   ]
  },
  {
   "cell_type": "code",
   "execution_count": null,
   "metadata": {},
   "outputs": [],
   "source": [
    "function F(i,j) \n",
    "   if i == j  \n",
    "      2\n",
    "    elseif abs(i - j) == 1\n",
    "      1\n",
    "    elseif abs(i-j) == 2\n",
    "      -2\n",
    "    else \n",
    "       0\n",
    "  end\n",
    "end"
   ]
  },
  {
   "cell_type": "code",
   "execution_count": null,
   "metadata": {},
   "outputs": [],
   "source": [
    "n = 9;"
   ]
  },
  {
   "cell_type": "markdown",
   "metadata": {},
   "source": [
    "An array comprehension generates our array:"
   ]
  },
  {
   "cell_type": "code",
   "execution_count": null,
   "metadata": {},
   "outputs": [],
   "source": [
    "M = [F(i,j) for i=1:n, j=1:n]"
   ]
  },
  {
   "cell_type": "markdown",
   "metadata": {},
   "source": [
    "The matrix is a _tridiagonal matrix_. Let's solve $M x = b$, where $b$ is a column vector with each member equal to $1$"
   ]
  },
  {
   "cell_type": "code",
   "execution_count": null,
   "metadata": {},
   "outputs": [],
   "source": [
    "b = [1  for i=1:n]"
   ]
  },
  {
   "cell_type": "code",
   "execution_count": null,
   "metadata": {},
   "outputs": [],
   "source": [
    "x  = M  \\ b"
   ]
  },
  {
   "cell_type": "markdown",
   "metadata": {},
   "source": [
    "Checking our work, our solution looks OK-- some members of the residual are about equal to  the machine epsilon--not surprising.  One member is about ten times the machine epsilon"
   ]
  },
  {
   "cell_type": "code",
   "execution_count": null,
   "metadata": {},
   "outputs": [],
   "source": [
    "M * x - b"
   ]
  },
  {
   "cell_type": "markdown",
   "metadata": {},
   "source": [
    "Julia has a function that computes the matrix inverse. But solving using the matrix inverse is _slower_ than using the backslash; we need to run the tests twice! For our test, let's use a $4096 \\times 4096$ matrix"
   ]
  },
  {
   "cell_type": "code",
   "execution_count": null,
   "metadata": {},
   "outputs": [],
   "source": [
    "n = 2^12"
   ]
  },
  {
   "cell_type": "code",
   "execution_count": null,
   "metadata": {},
   "outputs": [],
   "source": [
    "M = [F(i,j) for i=1:n, j=1:n];"
   ]
  },
  {
   "cell_type": "code",
   "execution_count": null,
   "metadata": {},
   "outputs": [],
   "source": [
    "x = [1  for i=1:n];"
   ]
  },
  {
   "cell_type": "code",
   "execution_count": null,
   "metadata": {},
   "outputs": [],
   "source": [
    "b = M * x;"
   ]
  },
  {
   "cell_type": "code",
   "execution_count": null,
   "metadata": {},
   "outputs": [],
   "source": [
    "@time M \\ b;"
   ]
  },
  {
   "cell_type": "code",
   "execution_count": null,
   "metadata": {},
   "outputs": [],
   "source": [
    "@time x = M \\ b;"
   ]
  },
  {
   "cell_type": "code",
   "execution_count": null,
   "metadata": {},
   "outputs": [],
   "source": [
    "@time inv(M) * b;"
   ]
  },
  {
   "cell_type": "code",
   "execution_count": null,
   "metadata": {},
   "outputs": [],
   "source": [
    "@time xx = inv(M) * b;"
   ]
  },
  {
   "cell_type": "markdown",
   "metadata": {},
   "source": [
    "Solving using the matrix inverse is slower and uses more memory--using a matrix inverse is almost always the wrong thing to do. \n",
    "\n",
    "Are the two solutions nearly equal? Let's hope so.  The Julia function `findmax` will find the maximum member of an array and also find its position.  We might like the member with the greatest magnitude, so we'll map the absolute value function onto the difference:"
   ]
  },
  {
   "cell_type": "code",
   "execution_count": null,
   "metadata": {},
   "outputs": [],
   "source": [
    "findmax(map(abs, x - xx))"
   ]
  },
  {
   "cell_type": "raw",
   "metadata": {},
   "source": [
    "The member with the greatest magnitude is at location 2196 and its magnitude is about $5.4 \\times 10^{-14}$. So yes, I'd say the answers are about the same.\n",
    "\n",
    "We can solve multiple RHS at the same time; for example, let's try three right-hand-sides all at once."
   ]
  },
  {
   "cell_type": "code",
   "execution_count": null,
   "metadata": {},
   "outputs": [],
   "source": [
    "Mat = [1 2 3; 4 5 6; 7 8 107]"
   ]
  },
  {
   "cell_type": "code",
   "execution_count": null,
   "metadata": {},
   "outputs": [],
   "source": [
    "b = [1 0 0; 0 1 0 ; 0 0 1]"
   ]
  },
  {
   "cell_type": "markdown",
   "metadata": {},
   "source": [
    "Each column is a solution. The first column is the solution with the RHS [1,0,1]"
   ]
  },
  {
   "cell_type": "code",
   "execution_count": null,
   "metadata": {},
   "outputs": [],
   "source": [
    "x = Mat \\ b"
   ]
  },
  {
   "cell_type": "markdown",
   "metadata": {},
   "source": [
    "Mat * x should be the $3 \\times 3 $  identity matrix; let's check:"
   ]
  },
  {
   "cell_type": "code",
   "execution_count": null,
   "metadata": {},
   "outputs": [],
   "source": [
    "Mat * x"
   ]
  },
  {
   "cell_type": "markdown",
   "metadata": {},
   "source": [
    "Is it the $3 \\times 3 $  identity matrix? Well, almost--the off-diagonal terms differ from zero by an amount that is about the same or smaller than the machine epsilon. We're not surprised by this.  \n",
    "\n",
    "Let's try another example. A famous matrix that has a determinant that is zero is \n",
    "$$\n",
    " \\begin{bmatrix} 1&2&3\\\\4&5& 6 \\\\ 7 & 8 & 9 \\end{bmatrix}\n",
    "$$\n",
    "Let's change the $3,3$ element just a bit and use it as a coefficient matrix. For just a bit, we'll use $2^{-46}$."
   ]
  },
  {
   "cell_type": "code",
   "execution_count": null,
   "metadata": {},
   "outputs": [],
   "source": [
    "Mat = [1 2 3; 4 5 6; 7 8 9+ 2.0^(-46)]"
   ]
  },
  {
   "cell_type": "code",
   "execution_count": null,
   "metadata": {},
   "outputs": [],
   "source": [
    "b = [1 0 0; 0 1 0 ; 0 0 1]"
   ]
  },
  {
   "cell_type": "markdown",
   "metadata": {},
   "source": [
    "As a matrix element, $9+ 2^{-46}$ prints as $9.0$, but it's value isn't 9:"
   ]
  },
  {
   "cell_type": "code",
   "execution_count": null,
   "metadata": {},
   "outputs": [],
   "source": [
    "9+ 2.0^(-46)"
   ]
  },
  {
   "cell_type": "code",
   "execution_count": null,
   "metadata": {},
   "outputs": [],
   "source": [
    "x = Mat \\ b"
   ]
  },
  {
   "cell_type": "markdown",
   "metadata": {},
   "source": [
    "Should we check our work? Always!"
   ]
  },
  {
   "cell_type": "code",
   "execution_count": null,
   "metadata": {},
   "outputs": [],
   "source": [
    "Mat * x"
   ]
  },
  {
   "cell_type": "markdown",
   "metadata": {},
   "source": [
    "Yikes! This should be the $3 \\times 3$ identity matrix, but the off diagonal terms differ a _great deal_ from zero. What's the story? Let's try solving with exact rational numbers"
   ]
  },
  {
   "cell_type": "code",
   "execution_count": null,
   "metadata": {},
   "outputs": [],
   "source": [
    "MMat = map(x -> BigInt(x)//1, [1 2 3; 4 5 6; 7 8 9]) + [0 0 0; 0 0 0; 0 0 1//BigInt(2)^46]"
   ]
  },
  {
   "cell_type": "code",
   "execution_count": null,
   "metadata": {},
   "outputs": [],
   "source": [
    "b = map(x -> BigInt(x)//1, b)"
   ]
  },
  {
   "cell_type": "code",
   "execution_count": null,
   "metadata": {},
   "outputs": [],
   "source": [
    "xx = MMat \\ b"
   ]
  },
  {
   "cell_type": "markdown",
   "metadata": {},
   "source": [
    "Checking this, all is well!"
   ]
  },
  {
   "cell_type": "code",
   "execution_count": null,
   "metadata": {},
   "outputs": [],
   "source": [
    "MMat * xx"
   ]
  },
  {
   "cell_type": "markdown",
   "metadata": {},
   "source": [
    "Let's compare the two solutions"
   ]
  },
  {
   "cell_type": "code",
   "execution_count": null,
   "metadata": {},
   "outputs": [],
   "source": [
    "xx = map(x -> convert(Float64,x), xx)"
   ]
  },
  {
   "cell_type": "code",
   "execution_count": null,
   "metadata": {},
   "outputs": [],
   "source": [
    "findmax(map(abs, x - xx))"
   ]
  },
  {
   "cell_type": "markdown",
   "metadata": {},
   "source": [
    "The absolute values of the differences is as large as about $0.046875.$\n",
    "\n",
    "What we are seeing is something like the butterfly effect. A tiny change in the input to a linear system, can cause a big change in the output. Whence the changes in the input? We need to round the matrix elements to floating point numbers. Plus every arithmetic operation involves more rounding errors.\n",
    "\n",
    "The matrix condition number (which we will learn about) is a measure of how much the solution to a linear system might change due to a change in the inputs. Julia gives us a quick way to compute the matrix condition number>"
   ]
  },
  {
   "cell_type": "code",
   "execution_count": null,
   "metadata": {},
   "outputs": [],
   "source": [
    "using LinearAlgebra"
   ]
  },
  {
   "cell_type": "code",
   "execution_count": null,
   "metadata": {},
   "outputs": [],
   "source": [
    "cond(Mat,Inf)"
   ]
  },
  {
   "cell_type": "markdown",
   "metadata": {},
   "source": [
    "I know what you are thinking: The condition number of our matrix is big because its determinate is small:"
   ]
  },
  {
   "cell_type": "code",
   "execution_count": null,
   "metadata": {},
   "outputs": [],
   "source": [
    "det(Mat)"
   ]
  },
  {
   "cell_type": "raw",
   "metadata": {},
   "source": [
    "Nice guess, but no. Here is a matrix whose determinant is about one, but it has a big condition number."
   ]
  },
  {
   "cell_type": "code",
   "execution_count": null,
   "metadata": {},
   "outputs": [],
   "source": [
    "MM = [6.086956521743044e5 9.130434782599565e5; 2.608695652171305e5 3.913043478266957e5]"
   ]
  },
  {
   "cell_type": "code",
   "execution_count": null,
   "metadata": {},
   "outputs": [],
   "source": [
    "det(MM)"
   ]
  },
  {
   "cell_type": "code",
   "execution_count": null,
   "metadata": {},
   "outputs": [],
   "source": [
    "cond(MM, Inf)"
   ]
  },
  {
   "cell_type": "markdown",
   "metadata": {},
   "source": [
    "Returning to our $4096 \\times 4096$ matrix, let's find its condition number"
   ]
  },
  {
   "cell_type": "code",
   "execution_count": null,
   "metadata": {},
   "outputs": [],
   "source": [
    "cond([F(i,j) for i=1:4096, j=1:4096], Inf)"
   ]
  },
  {
   "cell_type": "markdown",
   "metadata": {},
   "source": [
    "Again, we'll learn more about what the matrix condition number means"
   ]
  },
  {
   "cell_type": "code",
   "execution_count": null,
   "metadata": {},
   "outputs": [],
   "source": []
  }
 ],
 "metadata": {
  "kernelspec": {
   "display_name": "Julia 1.5.3",
   "language": "julia",
   "name": "julia-1.5"
  },
  "language_info": {
   "file_extension": ".jl",
   "mimetype": "application/julia",
   "name": "julia",
   "version": "1.5.3"
  }
 },
 "nbformat": 4,
 "nbformat_minor": 2
}
