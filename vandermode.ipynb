{
 "cells": [
  {
   "cell_type": "markdown",
   "metadata": {},
   "source": [
    "## Monomial form of polynomial interpolation\n",
    "__MATH 420__ <br>\n",
    "_Section 3.1_ <br>\n",
    "_Spring 2021_ <br>\n",
    "\n",
    "Let's suppose we have a bunch of points in $\\mathbf{R}^2$ that have _distinct_ first coordinates. Say the points are\n",
    "$$\n",
    "    (x_0, y_0),  (x_1, y_1), (x_2, y_2), \\dots, (x_n, y_n).\n",
    "$$\n",
    "The subscripts start at zero and end with $n$, so we have $n+1$ points in $\\mathbf{R}^2$.\n",
    "\n",
    "We call the first coordinates of each point, that is $x_0, x_1, \\dots, x_n$ the _knots._ Since the first coordinates are distinct, the points $(x_0, y_0)$ through $(x_n, y_n)$ are points on the graph of some function. The function _isn't_ unique, but let's try to find a function in the simplest class we can think of has these points on its graph. \n",
    "\n",
    "The simplest largish set of functions are the polynomials, so say we want to determine a polynomial $P$ that satisfies\n",
    "$$\n",
    "   P(x_0) = y_0, P(x_1) = y_1, \\dots, P(x_n) = y_n.\n",
    "$$\n",
    "This is a very famous _interpolation problem._  And the points $(x_0, y_0),  (x_1, y_1), (x_2, y_2), \\dots, (x_n, y_n)$ are the _interpolation points._\n",
    "\n",
    "\n",
    "Say our polynomial is\n",
    "$$\n",
    "   P(x) = c_0  + c_1 x + c_2 x^2 + \\cdots c_m x^m.\n",
    "$$\n",
    "where the coefficients $c_0$ through $c_m$ are to be determined. We have $n+1$ equations and $m+1$ coefficients, so we might _guess_ that we need $m = n.$ The condition $ P(x_0) = y_0$ gives\n",
    "$$\n",
    "   c_0 + c_1 x_0 + c_2 x_0^2 + c_3 x_0^3 + \\cdots c_n x_0^n = y_0.\n",
    "$$\n",
    "Although this might look like a mess, it's really a linear equation for the unknowns $c_0$ through $c_n$. Using the remaining equations, that is,  $P(x_1) = y_1, \\dots, P(x_n) = y_n$ and arranging the equations in matrix form gives\n",
    "$$\n",
    "  \\begin{bmatrix} 1 & x_0 & x_0^2 & \\cdots & x_0^n \\\\\n",
    "                 1 & x_1 & x_1^2 & \\cdots & x_1^n  \\\\\n",
    "                 \\vdots & \\vdots & \\vdots & \\vdots \\\\\n",
    "                  1 & x_n & x_n^2 & \\cdots & x_n^n\n",
    "   \\end{bmatrix}  \n",
    "   \\begin{bmatrix}\n",
    "       c_0 \\\\\n",
    "       c_1 \\\\\n",
    "       \\vdots \\\\\n",
    "       c_n\n",
    "    \\end{bmatrix} =  \n",
    "     \\begin{bmatrix}\n",
    "       y_0 \\\\\n",
    "       y_1 \\\\\n",
    "       \\vdots \\\\\n",
    "       y_n\n",
    "    \\end{bmatrix}\n",
    "$$\n",
    "Starting with a power of zero, each row of the coefficient matrix is an ascending list of powers of a knot. Any such matrix is a _Vandermonde_ matrix (https://en.wikipedia.org/wiki/Vandermonde_matrix). Unless the _Vandemonde_ matrix is singular (doesn't have an inverse), we've solved our problem. We'll soon prove that if the knots are distinct, a Vandermonde matrix has an inverse.\n",
    "\n",
    "\n",
    "Let's look at an example."
   ]
  },
  {
   "cell_type": "code",
   "execution_count": null,
   "metadata": {},
   "outputs": [],
   "source": [
    "using LinearAlgebra"
   ]
  },
  {
   "cell_type": "raw",
   "metadata": {},
   "source": [
    "Let's build a function that constructs a Vandermonde matrix from a collection of the knots. The collection could be either a Julia tuple or a Julia array. Our function is"
   ]
  },
  {
   "cell_type": "code",
   "execution_count": null,
   "metadata": {},
   "outputs": [],
   "source": [
    "function vandermonde(x)\n",
    "    n = length(x)\n",
    "    [x[i]^j for i = 1: n,j = 0 : n-1]\n",
    "end"
   ]
  },
  {
   "cell_type": "raw",
   "metadata": {},
   "source": [
    "Remember that for a real number $x$, Julia seems to evaluate $x^0$ to $1$, even when $x$ is zero. Thus our function should work OK even when one knot is zero.  \n",
    "\n",
    "Say we want to find a polynomial whose graph contains the points\n",
    "$$\n",
    "  (0,1), (1, 4), (2, -3), (3, 107), (4, -46).\n",
    "$$\n",
    "The appropriate Vandermode matrix is"
   ]
  },
  {
   "cell_type": "code",
   "execution_count": null,
   "metadata": {},
   "outputs": [],
   "source": [
    "M = vandermonde((0,1,2,3,4))"
   ]
  },
  {
   "cell_type": "markdown",
   "metadata": {},
   "source": [
    "To solve the interpolation problem, we only need to solve a linear system."
   ]
  },
  {
   "cell_type": "code",
   "execution_count": null,
   "metadata": {},
   "outputs": [],
   "source": [
    "b = [1; 4; -3; 107; -46]"
   ]
  },
  {
   "cell_type": "code",
   "execution_count": null,
   "metadata": {},
   "outputs": [],
   "source": [
    "c = M \\ b\n"
   ]
  },
  {
   "cell_type": "raw",
   "metadata": {},
   "source": [
    "Is this correct? Should we check? Of course, we should check. We would like to build a function that evaluates the polynomial $ x \\mapsto c_0 + c_1 x + c_2 x^2 + \\cdots c_n x^n$.\n",
    "\n",
    "Maybe we should use our polynomial evaluation code, but let's use a more Julia way:"
   ]
  },
  {
   "cell_type": "code",
   "execution_count": null,
   "metadata": {},
   "outputs": [],
   "source": [
    "P = x -> @evalpoly(x, c...)"
   ]
  },
  {
   "cell_type": "markdown",
   "metadata": {},
   "source": [
    "The `(x, c...)` is a tricky Julia way to effectively do `(x, c_0, c_1, \\dots, c_n)`.\n",
    "\n",
    "Mapping $P$ onto $(0,1,2,3,4)$ should give $(1,4,-3,107, -46)$. It does"
   ]
  },
  {
   "cell_type": "code",
   "execution_count": null,
   "metadata": {},
   "outputs": [],
   "source": [
    "map(P, (0,1,2,3,4))"
   ]
  },
  {
   "cell_type": "markdown",
   "metadata": {},
   "source": [
    "Actually, _every_ time we solve a linear system, we should check the condition number:"
   ]
  },
  {
   "cell_type": "code",
   "execution_count": null,
   "metadata": {},
   "outputs": [],
   "source": [
    "cond(M, Inf)"
   ]
  },
  {
   "cell_type": "markdown",
   "metadata": {},
   "source": [
    "Compared to the machine epsilon, this isn't huge. Let's try G from GNAT. Looks like we are drinking from the fountain of success!"
   ]
  },
  {
   "cell_type": "code",
   "execution_count": null,
   "metadata": {},
   "outputs": [],
   "source": [
    "using Gadfly"
   ]
  },
  {
   "cell_type": "code",
   "execution_count": null,
   "metadata": {},
   "outputs": [],
   "source": [
    "plot(layer(x = [0,1,2,3,4],y=[1,4,-3,107, -46],color=[colorant\"black\"]),\n",
    "     layer(P, -1,5),color=[colorant\"purple\"], Guide.title(\"Fourth degree polynomial interpolation\"))"
   ]
  },
  {
   "cell_type": "raw",
   "metadata": {},
   "source": [
    "Let's try another. This time, let's have lots of equally spaced knots that are _close_ togetgher."
   ]
  },
  {
   "cell_type": "code",
   "execution_count": null,
   "metadata": {},
   "outputs": [],
   "source": [
    "knots = [1.0 + k/100 for k = 0 : 10]"
   ]
  },
  {
   "cell_type": "code",
   "execution_count": null,
   "metadata": {},
   "outputs": [],
   "source": [
    "M = vandermonde(knots)"
   ]
  },
  {
   "cell_type": "markdown",
   "metadata": {},
   "source": [
    "For the second coordinates of each point, let's use"
   ]
  },
  {
   "cell_type": "code",
   "execution_count": null,
   "metadata": {},
   "outputs": [],
   "source": [
    "y = [knots[i]^2 + 1 for i = 1 : 11, j=1:1]"
   ]
  },
  {
   "cell_type": "markdown",
   "metadata": {},
   "source": [
    "OK--this is tricky our points are $(x_0, 1+x_0^2), (x_1, 1+ x_1^2), \\dots $\n",
    "\n",
    "\n",
    "So when we solve for the coefficients $c$, we expect $c[1] = 1, c[2] = 0, c[3] = 1$ and all addition values of $c$ to vanish. But that's _not_ what we get--the values differ greatly from these values. "
   ]
  },
  {
   "cell_type": "code",
   "execution_count": null,
   "metadata": {},
   "outputs": [],
   "source": [
    "c = M \\ y"
   ]
  },
  {
   "cell_type": "markdown",
   "metadata": {},
   "source": [
    "What's the story?  The condition number for $M$ is so huge, we shouldn't expect the solution to be accurate."
   ]
  },
  {
   "cell_type": "code",
   "execution_count": null,
   "metadata": {},
   "outputs": [],
   "source": [
    "cond(M,Inf)"
   ]
  },
  {
   "cell_type": "markdown",
   "metadata": {},
   "source": [
    "What about the residual? The residual is $M c = y$. It is"
   ]
  },
  {
   "cell_type": "code",
   "execution_count": null,
   "metadata": {},
   "outputs": [],
   "source": [
    "M * c - y"
   ]
  },
  {
   "cell_type": "markdown",
   "metadata": {},
   "source": [
    "The members of the residual are all comparable to the machine epsilon. So you might _think_ the solution is accurate, but the solution isn't accurate. Since the residual is small, graphically the solution very nearly goes through the interpolation points.\n",
    "\n",
    "<div class=\"alert alert-block alert-warning\"><b>Warning:</b> A small residual does not imply an accurate solution.</div>"
   ]
  },
  {
   "cell_type": "code",
   "execution_count": null,
   "metadata": {},
   "outputs": [],
   "source": [
    "PP = x -> @evalpoly(x, c...)"
   ]
  },
  {
   "cell_type": "code",
   "execution_count": null,
   "metadata": {},
   "outputs": [],
   "source": [
    "map(PP, knots) - y"
   ]
  },
  {
   "cell_type": "code",
   "execution_count": null,
   "metadata": {},
   "outputs": [],
   "source": [
    "QQ = x -> x^2 + 1"
   ]
  },
  {
   "cell_type": "code",
   "execution_count": null,
   "metadata": {},
   "outputs": [],
   "source": [
    "map(QQ, knots) - y"
   ]
  },
  {
   "cell_type": "raw",
   "metadata": {},
   "source": [
    "Let's look at the graphs of both $PP$ and $QQ$. At least on the interval $[1,1.1]$, the functions $PP$ and $QQ$ are nearly identical."
   ]
  },
  {
   "cell_type": "code",
   "execution_count": null,
   "metadata": {
    "scrolled": true
   },
   "outputs": [],
   "source": [
    "plot(layer(PP, 1,1.1,color=[colorant\"purple\"]), layer(QQ,1,1.1),color=[colorant\"orange\"])"
   ]
  },
  {
   "cell_type": "raw",
   "metadata": {},
   "source": [
    "A graph of their difference:"
   ]
  },
  {
   "cell_type": "code",
   "execution_count": null,
   "metadata": {
    "scrolled": true
   },
   "outputs": [],
   "source": [
    "plot(x -> PP(x)-QQ(x),1,1.1,color=[colorant\"purple\"])"
   ]
  },
  {
   "cell_type": "raw",
   "metadata": {},
   "source": [
    "Outside the interval $[1,1.1]$, the functions are different."
   ]
  },
  {
   "cell_type": "code",
   "execution_count": null,
   "metadata": {},
   "outputs": [],
   "source": [
    "plot(layer(PP, -1,1.1), layer(QQ,-1,1.1),color=[colorant\"purple\"])"
   ]
  },
  {
   "cell_type": "raw",
   "metadata": {},
   "source": [
    "It's a bit mysterious, but although the condition number is huge and we expect the solutions to be inaccurate, we get a interpolating polynomial that is visually accurate."
   ]
  },
  {
   "cell_type": "code",
   "execution_count": null,
   "metadata": {},
   "outputs": [],
   "source": [
    "plot(layer(x = knots, y = y,color=[colorant\"black\"]),\n",
    "     layer(PP,1, 1.1,color=[colorant\"purple\"]),\n",
    "     layer(QQ,1, 1.1,color=[colorant\"orange\"]))"
   ]
  },
  {
   "cell_type": "raw",
   "metadata": {},
   "source": [
    "Both functions $PP$ and $QQ$ do a good job interpolating. But outside the range of the dots, the functions are far apart."
   ]
  },
  {
   "cell_type": "code",
   "execution_count": null,
   "metadata": {
    "scrolled": true
   },
   "outputs": [],
   "source": [
    "plot(layer(x = knots, y = y,color=[colorant\"black\"]),\n",
    "     layer(PP,-1, 2,color=[colorant\"purple\"]),\n",
    "     layer(QQ,-1, 2,color=[colorant\"orange\"]))"
   ]
  },
  {
   "cell_type": "markdown",
   "metadata": {},
   "source": [
    "Let's put all this together and build a function that returns a function that interpolates given points in the $\\mathbf{R}^2$. \n",
    "\n",
    "Do we like to be careful? Of course we do, so let's also return the matrix condition number as well as the interpolating polynomial. "
   ]
  },
  {
   "cell_type": "code",
   "execution_count": null,
   "metadata": {},
   "outputs": [],
   "source": [
    "function interpolating_poly(pts::Array)\n",
    "    M = vandermonde( map(q -> q[1],pts))\n",
    "    c = M \\ map(q -> q[2],pts)\n",
    "    q -> @evalpoly(q, c...), cond(M,Inf)\n",
    "end    "
   ]
  },
  {
   "cell_type": "code",
   "execution_count": null,
   "metadata": {},
   "outputs": [],
   "source": [
    "A simple test:"
   ]
  },
  {
   "cell_type": "code",
   "execution_count": null,
   "metadata": {},
   "outputs": [],
   "source": [
    "fn = interpolating_poly([[2,3],[5,6]])"
   ]
  },
  {
   "cell_type": "code",
   "execution_count": null,
   "metadata": {},
   "outputs": [],
   "source": [
    "fn = first(fn)"
   ]
  },
  {
   "cell_type": "code",
   "execution_count": null,
   "metadata": {},
   "outputs": [],
   "source": [
    "fn(2)"
   ]
  },
  {
   "cell_type": "code",
   "execution_count": null,
   "metadata": {},
   "outputs": [],
   "source": [
    "fn(5)"
   ]
  },
  {
   "cell_type": "code",
   "execution_count": null,
   "metadata": {},
   "outputs": [],
   "source": []
  }
 ],
 "metadata": {
  "kernelspec": {
   "display_name": "Julia 1.5.3",
   "language": "julia",
   "name": "julia-1.5"
  },
  "language_info": {
   "file_extension": ".jl",
   "mimetype": "application/julia",
   "name": "julia",
   "version": "1.5.3"
  }
 },
 "nbformat": 4,
 "nbformat_minor": 2
}
