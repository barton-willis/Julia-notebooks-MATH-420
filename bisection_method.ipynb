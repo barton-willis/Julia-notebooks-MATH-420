{
 "cells": [
  {
   "cell_type": "markdown",
   "metadata": {},
   "source": [
    "## Bisection Method\n",
    "\n",
    "For a cheat sheet on Jupyter notebook's markdown language, see https://www.ibm.com/support/knowledgecenter/SSHGWL_1.2.3/analyze-data/markd-jupyter.html\n",
    "\n",
    "Finding the midpoint of two numbers (the arithmetic average) seems like a simple task, but it's not. The simple-minded formula $\\frac{a+b}{2}$ can needlessly overflow, and then often suggested alternative (for example, _Numerical Analysis_  by Richard L. Burden  and  J. Douglas Faires)  $a + \\frac{b-a}{2}$ has other problems, including needless overflow when $a$ and $b$ have opposite signs.\n",
    "\n",
    "We can avoid the needless overflow of $\\frac{a+b}{2}$ by using $\\frac{a}{2}+ \\frac{b}{2}$, but this formula can underflow to zero, giving a midpoint that is not in between $a$ and $b$.\n",
    "\n",
    "For more details than you will want to know, see https://hal.archives-ouvertes.fr/file/index/docid/576641/filename/computing-midpoint.pdf\n",
    "\n",
    "\n",
    "For rational inputs, we'll use rational arithmetic to find the midpoint; for all other numeric types,we'll use the simple minded $\\frac{a+b}{2}$. Julia's multiple function dispatch makes it possible to have multiple definitions of a function with distinct input types.\n",
    "\n"
   ]
  },
  {
   "cell_type": "code",
   "execution_count": null,
   "metadata": {},
   "outputs": [],
   "source": [
    "function midpoint(a::Rational,b::Rational)\n",
    "    (a+b)//2\n",
    "end   "
   ]
  },
  {
   "cell_type": "code",
   "execution_count": null,
   "metadata": {},
   "outputs": [],
   "source": [
    "function midpoint(a::Number,b::Number)\n",
    "    (a+b)/2\n",
    "end  "
   ]
  },
  {
   "cell_type": "markdown",
   "metadata": {},
   "source": [
    "In the bisection method, traditionally you see a test $fa \\times fm > 0$ (see, for example, see \\https://mmas.github.io/bisection-method-julia}. But  $fa \\times fm$ could _needlessly_ overflow. \n",
    "\n",
    "Instead we'll test using a function same\\_sign\\_p (the final p in the function name is for \"predicate,'' meaning a function that returns either true or false). This method won't needlessly overflow plus it uses fewer resources. \n",
    "\n",
    "To show that it uses fewer resources, we need run the tests more than once.  This is due to the fact that Julia uses a just in time compiler. The first time the test gets run, it gets compiled."
   ]
  },
  {
   "cell_type": "code",
   "execution_count": null,
   "metadata": {},
   "outputs": [],
   "source": [
    "function same_sign_p(x,y) \n",
    "    (x < 0 && y <0) || (x > 0 && y >0)\n",
    "end"
   ]
  },
  {
   "cell_type": "code",
   "execution_count": null,
   "metadata": {},
   "outputs": [],
   "source": [
    "x, y = rand(), -rand();"
   ]
  },
  {
   "cell_type": "code",
   "execution_count": null,
   "metadata": {},
   "outputs": [],
   "source": [
    "@time x*y > 0"
   ]
  },
  {
   "cell_type": "code",
   "execution_count": null,
   "metadata": {},
   "outputs": [],
   "source": [
    "@time x*y > 0"
   ]
  },
  {
   "cell_type": "code",
   "execution_count": null,
   "metadata": {},
   "outputs": [],
   "source": [
    "@time same_sign_p(y,x)"
   ]
  },
  {
   "cell_type": "code",
   "execution_count": null,
   "metadata": {},
   "outputs": [],
   "source": [
    "@time same_sign_p(x,y)"
   ]
  },
  {
   "cell_type": "markdown",
   "metadata": {},
   "source": [
    "For our bisection method code, we need to test if two numbers are approximately equal. We'll use the Julia function isapprox to to this. The user documentation is"
   ]
  },
  {
   "cell_type": "code",
   "execution_count": null,
   "metadata": {
    "scrolled": false
   },
   "outputs": [],
   "source": [
    "? isapprox"
   ]
  },
  {
   "cell_type": "markdown",
   "metadata": {},
   "source": [
    "The times for both methods are about the same, but the function same\\_sign\\_p allocates less memory than does using $x y > 0$.  We should protect against endless (or nearly endless loops)--we'll do this with a limit on the number of bisections.\n",
    "\n",
    "Here is our code for the bisection method. The method stops when the zero has been located to be in an interval $[a,b]$ with \n",
    "$$\n",
    "  |a - b|  \\leq  \\mathrm{tol}  \\times (1 + \\max(|a|, |b|).\n",
    "$$\n",
    " The Julia function isapprox does this test.\n",
    " \n",
    "Maybe this code should special case fm == 0. Another day. We'll default the tolerance to the magic number 64 times the binary64 machine epsilon; and default the maximum number of iterations to the magic number 1000. "
   ]
  },
  {
   "cell_type": "code",
   "execution_count": null,
   "metadata": {},
   "outputs": [],
   "source": [
    "function bisection(f::Function,a::Number,b::Number, tol = 64*eps(Float64), maxiter::Integer = 1000)\n",
    "    fa = f(a)\n",
    "    fb = f(b)\n",
    "    # Error when f has the same sign at endpoionts a & b.\n",
    "    !same_sign_p(fa,fb) || error(\"Bisection: Function doesn't have opposite signs at given endpoints.\")\n",
    "               \n",
    "    while !isapprox(a,b,atol = tol,rtol = tol) && maxiter > 0\n",
    "        maxiter -= 1\n",
    "        m = midpoint(a,b)\n",
    "        fm = f(m)\n",
    "        if same_sign_p(fa, fm) \n",
    "            (a,fa) = (m, fm) # the zero of f is between m & b\n",
    "        else\n",
    "            (b,fb) = (m, fm) # the zero of f is between a & m\n",
    "        end       \n",
    "    end    \n",
    "    # error when too many iterations; otherwise, return the midpoint\n",
    "    if maxiter <= 0\n",
    "        error(\"Bisection: Exceeded maximum number of iterations.\")\n",
    "    else     \n",
    "       midpoint(a,b)\n",
    "    end\n",
    "end;"
   ]
  },
  {
   "cell_type": "raw",
   "metadata": {},
   "source": [
    "Let's find the positive square root of 2."
   ]
  },
  {
   "cell_type": "code",
   "execution_count": null,
   "metadata": {},
   "outputs": [],
   "source": [
    "bisection(x -> x^2 - 2,0, 2)\n"
   ]
  },
  {
   "cell_type": "markdown",
   "metadata": {},
   "source": [
    "Fun: we can use BigInt rational numbers too!"
   ]
  },
  {
   "cell_type": "code",
   "execution_count": null,
   "metadata": {},
   "outputs": [],
   "source": [
    "bisection(x -> x^2 - 2,BigInt(0)//1, BigInt(2)//1, 1//BigInt(2)^107)"
   ]
  },
  {
   "cell_type": "markdown",
   "metadata": {},
   "source": [
    "Our method doesn't assume an ordering of the inputs:"
   ]
  },
  {
   "cell_type": "code",
   "execution_count": null,
   "metadata": {},
   "outputs": [],
   "source": [
    "bisection(x -> x^2 - 2,2,0)"
   ]
  },
  {
   "cell_type": "raw",
   "metadata": {},
   "source": [
    "To find the negative square root of 2, no problem--just use a different interval."
   ]
  },
  {
   "cell_type": "code",
   "execution_count": null,
   "metadata": {},
   "outputs": [],
   "source": [
    "bisection(x -> x^2 - 2,-2,0)"
   ]
  },
  {
   "cell_type": "markdown",
   "metadata": {},
   "source": [
    "Let's test the mechanism for detecting an error"
   ]
  },
  {
   "cell_type": "code",
   "execution_count": null,
   "metadata": {},
   "outputs": [],
   "source": [
    "bisection(x -> x^2 - 2, 5,107)"
   ]
  },
  {
   "cell_type": "markdown",
   "metadata": {},
   "source": [
    "And test the mechanism for limiting the number of bisections"
   ]
  },
  {
   "cell_type": "code",
   "execution_count": null,
   "metadata": {},
   "outputs": [],
   "source": [
    "bisection(x -> x^2 - 2, 0.0, 1.0e308)"
   ]
  },
  {
   "cell_type": "code",
   "execution_count": null,
   "metadata": {},
   "outputs": [],
   "source": [
    "using Gadfly"
   ]
  },
  {
   "cell_type": "markdown",
   "metadata": {},
   "source": [
    "For a given number $y$, let's solve $x \\exp(x) = y$. We start with a graphical analysis. The minimum of \n",
    "$x \\mapsto x \\exp(x)$ is $-1/e$. For $y \\in [-1/e,0) $, the equation $x \\exp(x) = y$ has two real solutions; and for $ y \\in [0,\\infty)$, there is only one real solution."
   ]
  },
  {
   "cell_type": "code",
   "execution_count": null,
   "metadata": {
    "scrolled": true
   },
   "outputs": [],
   "source": [
    "plot(x -> x*exp(x),-5,0.5)"
   ]
  },
  {
   "cell_type": "markdown",
   "metadata": {},
   "source": [
    "The minimum of this function is $-1/e $ (and this happens when the input is -1)."
   ]
  },
  {
   "cell_type": "markdown",
   "metadata": {},
   "source": [
    "Specifically, look at a graph of $x  \\mapsto  x \\exp(x)  + 1/10$.  One zero is between -4 and -3, and the other is between -1 and 0. Let's use the bisection method to find both real solutions."
   ]
  },
  {
   "cell_type": "code",
   "execution_count": null,
   "metadata": {},
   "outputs": [],
   "source": [
    "plot(x -> x*exp(x)  + 0.1,-5,0.5)"
   ]
  },
  {
   "cell_type": "code",
   "execution_count": null,
   "metadata": {},
   "outputs": [],
   "source": [
    "bisection(x -> x*exp(x) + 0.1,-0.5,1)"
   ]
  },
  {
   "cell_type": "code",
   "execution_count": null,
   "metadata": {},
   "outputs": [],
   "source": [
    "bisection(x -> x*exp(x) + 0.1,-4.0,-3.0)"
   ]
  },
  {
   "cell_type": "markdown",
   "metadata": {},
   "source": [
    "Actually, this function has a name--it is the _Lambert W function_. The domain  of principal Lambert W function is \n",
    "$[-1/e, \\infty) $. A bisection method for evaluating the Lambert W function is"
   ]
  },
  {
   "cell_type": "code",
   "execution_count": null,
   "metadata": {},
   "outputs": [],
   "source": [
    "function lambert_w(x::Float64)\n",
    "    if x < -1/MathConstants.e\n",
    "        throw(DomainError(x))\n",
    "    elseif x < 0\n",
    "         bisection(q -> q*exp(q)-x,-1.0, 0.0)\n",
    "    elseif x == 0\n",
    "        zero(x)\n",
    "    else\n",
    "      bisection(q -> q*exp(q)-x,0,x)\n",
    "    end\n",
    "end"
   ]
  },
  {
   "cell_type": "code",
   "execution_count": null,
   "metadata": {},
   "outputs": [],
   "source": [
    "plot(lambert_w, -0.3,5)"
   ]
  },
  {
   "cell_type": "markdown",
   "metadata": {},
   "source": [
    "The Lambert W function is useful in applied mathematics. This function is useful for finding the average blood sugar level given the percent of hemoglobin molecules that have formed chemical bounds with glucose (the HbA1C in medical speak), for example. And for lots of others uses too."
   ]
  },
  {
   "cell_type": "markdown",
   "metadata": {},
   "source": [
    "Don't trust everything (anything?) you find on the Internet. The first result for a search on \"julia bisection method\"  leads to https://mmas.github.io/bisection-method-julia. Here is that code"
   ]
  },
  {
   "cell_type": "code",
   "execution_count": null,
   "metadata": {},
   "outputs": [],
   "source": [
    "function bisection_rubbish(f::Function, a::Number, b::Number;\n",
    "                   tol::AbstractFloat=1e-5, maxiter::Integer=100)\n",
    "    fa = f(a)\n",
    "    fa*f(b) <= 0 || error(\"No real root in [a,b]\")\n",
    "    i = 0\n",
    "    local c\n",
    "    while b-a > tol\n",
    "      \n",
    "        i += 1\n",
    "        i != maxiter || error(\"Max iteration exceeded\")\n",
    "        c = (a+b)/2\n",
    "        fc = f(c)\n",
    "        if fc == 0\n",
    "            break\n",
    "        elseif fa*fc > 0\n",
    "            a = c  # Root is in the right half of [a,b].\n",
    "            fa = fc\n",
    "        else\n",
    "            b = c  # Root is in the left half of [a,b].\n",
    "        end\n",
    "    end\n",
    "    return c\n",
    "end"
   ]
  },
  {
   "cell_type": "markdown",
   "metadata": {},
   "source": [
    "This code assumes that $b > a$, but it doesn't check for that condition. If that condition isn't satisfied, it needlessly loops. Actually, it's worse than that. Outside the ``while'' loop, the variable \"c\" doesn't have a value. The programmer attempted to fix this using a \"local\" declaration. Maybe this once worked in Julia, but not now:"
   ]
  },
  {
   "cell_type": "code",
   "execution_count": null,
   "metadata": {},
   "outputs": [],
   "source": [
    "bisection_rubbish(x -> x^2 - 2, 2,0)"
   ]
  },
  {
   "cell_type": "raw",
   "metadata": {},
   "source": [
    "A case where the product $fa \\times fc$ can overflow. As far as I can tell, Julia's handels this overflow OK. But I'd say that the test for terminating the loop, that is b-a > tol is too stringent.  When $a$ and $b$ are huge, the relative difference can be small (generally considered OK), but the absolute difference remains big. Example:"
   ]
  },
  {
   "cell_type": "code",
   "execution_count": null,
   "metadata": {},
   "outputs": [],
   "source": [
    "bisection_rubbish(x -> -10*(x - 1.0e158) + 1.0e158, 1.0e158, 2.0e158)"
   ]
  },
  {
   "cell_type": "code",
   "execution_count": null,
   "metadata": {},
   "outputs": [],
   "source": [
    "bisection(x -> -10*(x - 1.0e158) + 1.0e158, 1.0e158, 2.0e158)"
   ]
  },
  {
   "cell_type": "code",
   "execution_count": null,
   "metadata": {},
   "outputs": [],
   "source": []
  }
 ],
 "metadata": {
  "kernelspec": {
   "display_name": "Julia 1.4.0",
   "language": "julia",
   "name": "julia-1.4"
  },
  "language_info": {
   "file_extension": ".jl",
   "mimetype": "application/julia",
   "name": "julia",
   "version": "1.4.0"
  }
 },
 "nbformat": 4,
 "nbformat_minor": 2
}
