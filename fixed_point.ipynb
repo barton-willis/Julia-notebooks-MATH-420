{
 "cells": [
  {
   "cell_type": "markdown",
   "metadata": {},
   "source": [
    "## The Fixed point method\n",
    "__MATH 420__ <br>\n",
    "_Spring 2021_ <br>\n",
    "\n",
    "Here is a simple implementation of the fixed point method. Let's default the tolerance to 64 times the machine epsilon of the number with type x. And we'll default the maximum number of iterations to 50"
   ]
  },
  {
   "cell_type": "code",
   "execution_count": null,
   "metadata": {},
   "outputs": [],
   "source": [
    "function fixed_point(f::Function, x::Number, tol::Number = 64*eps(typeof(x)), maxiter::Integer = 50)\n",
    "    not_done = true\n",
    "    xx = f(x)\n",
    "    while !isapprox(x, xx, atol=tol, rtol=tol) && !isnan(x) && !isinf(x) && maxiter > 0\n",
    "        @show(x)\n",
    "        maxiter -= 1\n",
    "        x = xx\n",
    "        xx = f(x)\n",
    "    end\n",
    "    maxiter > 0 || error(\"Fixed point sequence converges too slowly.\")\n",
    "    x\n",
    "end;"
   ]
  },
  {
   "cell_type": "markdown",
   "metadata": {},
   "source": [
    "Let's find the fixed points  of $x \\mapsto  x^2 - 5 x + 4$ are 1 and 4. We'll start with a graphical analysis"
   ]
  },
  {
   "cell_type": "code",
   "execution_count": null,
   "metadata": {},
   "outputs": [],
   "source": [
    "using Gadfly, ForwardDiff"
   ]
  },
  {
   "cell_type": "code",
   "execution_count": null,
   "metadata": {},
   "outputs": [],
   "source": [
    "F = x -> x^2-4*x + 4"
   ]
  },
  {
   "cell_type": "code",
   "execution_count": null,
   "metadata": {},
   "outputs": [],
   "source": [
    "plot([x -> x, F],-1,6)"
   ]
  },
  {
   "cell_type": "markdown",
   "metadata": {},
   "source": [
    "OK, it looks like the fixed points are $1$ and $4$. We can check this"
   ]
  },
  {
   "cell_type": "code",
   "execution_count": null,
   "metadata": {},
   "outputs": [],
   "source": [
    "F(1), F(4)"
   ]
  },
  {
   "cell_type": "markdown",
   "metadata": {},
   "source": [
    "The value of the derivative at each fixed point tells us we expect the fixed point sequence to converge; let's check:"
   ]
  },
  {
   "cell_type": "code",
   "execution_count": null,
   "metadata": {},
   "outputs": [],
   "source": [
    "dF = x -> ForwardDiff.derivative(F,x)"
   ]
  },
  {
   "cell_type": "code",
   "execution_count": null,
   "metadata": {},
   "outputs": [],
   "source": [
    "(dF(1), dF(4))"
   ]
  },
  {
   "cell_type": "markdown",
   "metadata": {},
   "source": [
    "Both derivatives have magnitude greater than $1$. So we expect the fixed point sequences to diverge."
   ]
  },
  {
   "cell_type": "markdown",
   "metadata": {},
   "source": [
    "Try a starting value of $1.01$. Although this is super close to one fixed point, the fixed point sequence wanders around and doesn't appear to converge. At least initially, the terms of the sequence oscillate between being above the fixed point 1 to being below. This is due to the fact that $F^\\prime(1) < 0$."
   ]
  },
  {
   "cell_type": "code",
   "execution_count": null,
   "metadata": {},
   "outputs": [],
   "source": [
    "fixed_point(F, 1.001)"
   ]
  },
  {
   "cell_type": "markdown",
   "metadata": {},
   "source": [
    "Again since $F^\\prime (1) = -2$, so we don't expect the fixed point sequence to converge; it's worse t 4, where the derivative at that fixed point is $4$.  Since $F^\\prime(4) > 0$, we expect the sequence to diverge to infinity. With a starting value of  $4.0000001$, it does."
   ]
  },
  {
   "cell_type": "code",
   "execution_count": null,
   "metadata": {
    "scrolled": true
   },
   "outputs": [],
   "source": [
    "fixed_point(F, 4.0000001)"
   ]
  },
  {
   "cell_type": "markdown",
   "metadata": {},
   "source": [
    "One cure is to algebraically transform the equation $ x^2 - 4 x + 4 = x$ into an equivalent fixed point problem. There are lots of ways to do this. One way is to solving for $x^2$. Thus\n",
    "$$\n",
    "x^2 = 5 x - 4.\n",
    "$$\n",
    "Dividing by $x$ gives a fixed point problem\n",
    "$\n",
    " x = \\frac{5 x -4}{x}.\n",
    "$\n",
    "Of course if zero were a fixed point (it isn't), the division by zero would have eliminated zero as a fixed point.\n",
    "Let's define $G(x) = \\frac{5 x -4}{x}$ and look at its fixed point sequences"
   ]
  },
  {
   "cell_type": "code",
   "execution_count": null,
   "metadata": {},
   "outputs": [],
   "source": [
    "G = x ->  (5*x-4)/x"
   ]
  },
  {
   "cell_type": "markdown",
   "metadata": {},
   "source": [
    "Study this graphically--the slope a the fixed point looks to have a magnitude larger than 1 (divergence), but the slope at the fixed point $4$ looks shallow (convergence)."
   ]
  },
  {
   "cell_type": "code",
   "execution_count": null,
   "metadata": {},
   "outputs": [],
   "source": [
    "plot([x -> x, G],0.5,5)"
   ]
  },
  {
   "cell_type": "code",
   "execution_count": null,
   "metadata": {},
   "outputs": [],
   "source": [
    "dG = x -> ForwardDiff.derivative(G,x)"
   ]
  },
  {
   "cell_type": "markdown",
   "metadata": {},
   "source": [
    "Did we do our algebra correctly? Does $G$ have fixed points at $1$ and $4$. Yes!"
   ]
  },
  {
   "cell_type": "code",
   "execution_count": null,
   "metadata": {},
   "outputs": [],
   "source": [
    "(G(1), G(4))"
   ]
  },
  {
   "cell_type": "markdown",
   "metadata": {},
   "source": [
    "What about the derivatives of $G$ at the fixed points?"
   ]
  },
  {
   "cell_type": "code",
   "execution_count": null,
   "metadata": {},
   "outputs": [],
   "source": [
    "dG(1), dG(4)"
   ]
  },
  {
   "cell_type": "markdown",
   "metadata": {},
   "source": [
    "A fixed point sequence that starts near $4$ will converge; with a start near $1$, we don't expect it to converge to $1$ Oops--with a starting value of 1.5, the FP sequence converges to 4. Same with an initial value of 11.0"
   ]
  },
  {
   "cell_type": "code",
   "execution_count": null,
   "metadata": {},
   "outputs": [],
   "source": [
    "fixed_point(G, 1.5)"
   ]
  },
  {
   "cell_type": "code",
   "execution_count": null,
   "metadata": {
    "scrolled": true
   },
   "outputs": [],
   "source": [
    "fixed_point(G, 11.0)"
   ]
  },
  {
   "cell_type": "markdown",
   "metadata": {},
   "source": [
    "### The Wegstein method;\n",
    "\n",
    "From $F(x)$  we subtract $q (F(x) - x)$, where we attempt to choose the number $q$ so that the derivative of $x \\mapsto F(x) + q (F(x) - x)$ vanishes at the fixed point.  Of course, we don't know the fixed point, so we'll use our initial guess as its approximate value.  For this choice, we have \n",
    "$q = -F^\\prime(x_0) /(1 - F^\\prime(x_0))$. The method is"
   ]
  },
  {
   "cell_type": "code",
   "execution_count": null,
   "metadata": {},
   "outputs": [],
   "source": [
    "function fixed_pointX(f::Function, x::Number, tol::Number = eps(typeof(x)), maxiter::Integer = 125)\n",
    "    df = x -> ForwardDiff.derivative(f,x)\n",
    "    q = -df(x)/(1-df(x))\n",
    "    fixed_point(x -> (1-q)*f(x) + q*x,x,tol,maxiter)\n",
    "end"
   ]
  },
  {
   "cell_type": "markdown",
   "metadata": {},
   "source": [
    "Returning to the function $F$, the Wegstein method allows for convergence to both fixed points!"
   ]
  },
  {
   "cell_type": "code",
   "execution_count": null,
   "metadata": {},
   "outputs": [],
   "source": [
    "fixed_pointX(F, 1.5)"
   ]
  },
  {
   "cell_type": "code",
   "execution_count": null,
   "metadata": {},
   "outputs": [],
   "source": [
    "fixed_pointX(F, 6.5)"
   ]
  },
  {
   "cell_type": "raw",
   "metadata": {},
   "source": [
    "A bit better: We can update the value of q for each iteration:"
   ]
  },
  {
   "cell_type": "code",
   "execution_count": null,
   "metadata": {},
   "outputs": [],
   "source": [
    "function wegstein(f::Function, x::Number, tol::Number = 64*eps(typeof(x)), maxiter::Integer = 25)\n",
    "    not_done = true\n",
    "    df = x -> ForwardDiff.derivative(f,x)\n",
    "    function ff(x)\n",
    "         q = -df(x)/(1-df(x))\n",
    "        (1-q)*f(x) + q*x\n",
    "    end\n",
    "    fixed_point(ff, x, tol, maxiter)\n",
    "    end;"
   ]
  },
  {
   "cell_type": "code",
   "execution_count": null,
   "metadata": {},
   "outputs": [],
   "source": [
    "wegstein(F,1.3)"
   ]
  },
  {
   "cell_type": "code",
   "execution_count": null,
   "metadata": {},
   "outputs": [],
   "source": [
    "wegstein(F,107.0)"
   ]
  },
  {
   "cell_type": "markdown",
   "metadata": {},
   "source": [
    "Here is a version that returns an array of the terms of the fixed point sequence"
   ]
  },
  {
   "cell_type": "code",
   "execution_count": null,
   "metadata": {},
   "outputs": [],
   "source": [
    "function fixed_point_collect(f::Function, x::Number, tol::Number = 64*eps(typeof(x)), maxiter::Integer = 50)\n",
    "    not_done = true\n",
    "    xx = f(x)\n",
    "    p = [x]\n",
    "    while !isapprox(x, xx, atol=tol, rtol=tol) && !isnan(x) && !isinf(x) && maxiter > 0\n",
    "        push!(p,x)\n",
    "        maxiter -= 1\n",
    "        x = xx\n",
    "        xx = f(x)\n",
    "    end\n",
    "    maxiter > 0 || error(\"Fixed point sequence converges too slowly.\")\n",
    "    p\n",
    "end;"
   ]
  },
  {
   "cell_type": "code",
   "execution_count": null,
   "metadata": {
    "scrolled": true
   },
   "outputs": [],
   "source": [
    "p = fixed_point_collect(G, 53.0,1.0e-20)"
   ]
  },
  {
   "cell_type": "markdown",
   "metadata": {},
   "source": [
    "For linear convergence of a fixed point sequence we expect\n",
    "$$\n",
    "  \\lim_{k \\to \\infty} \\frac{x_{k+2} - x_{k+1}}{x_{k+1} - x_{k}} = F\\prime(x^\\star)\n",
    "$$\n",
    "Let's check--recall that $G^\\prime(4) = 1/4$. "
   ]
  },
  {
   "cell_type": "code",
   "execution_count": null,
   "metadata": {},
   "outputs": [],
   "source": [
    "Rate = n -> (p[n+2] - p[n+1])/(p[n+1] - p[n])"
   ]
  },
  {
   "cell_type": "code",
   "execution_count": null,
   "metadata": {},
   "outputs": [],
   "source": [
    "xx = [k for k=1:length(p)-2];"
   ]
  },
  {
   "cell_type": "code",
   "execution_count": null,
   "metadata": {},
   "outputs": [],
   "source": [
    "yy = map(Rate, xx)"
   ]
  },
  {
   "cell_type": "code",
   "execution_count": null,
   "metadata": {
    "scrolled": true
   },
   "outputs": [],
   "source": [
    "plot(x=xx, y=yy)"
   ]
  }
 ],
 "metadata": {
  "kernelspec": {
   "display_name": "Julia 1.5.3",
   "language": "julia",
   "name": "julia-1.5"
  },
  "language_info": {
   "file_extension": ".jl",
   "mimetype": "application/julia",
   "name": "julia",
   "version": "1.5.3"
  }
 },
 "nbformat": 4,
 "nbformat_minor": 2
}
