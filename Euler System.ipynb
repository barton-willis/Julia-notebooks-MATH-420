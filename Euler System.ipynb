{
 "cells": [
  {
   "cell_type": "raw",
   "metadata": {},
   "source": [
    "To prepare for this lesson, watch the video \\url{https://www.youtube.com/watch?v=k6nLfCbAzgo}. \n",
    "We would like to develop a numerical method for solving the SIR model. The DEs  for the unknown functions \\(S, I\\), and \\(R\\) are\n",
    "\\begin{align}\n",
    "   \\frac{\\mathrm{d} S}{\\mathrm{d} t} &= -a S I, \\\\\n",
    "   \\frac{\\mathrm{d} I}{\\mathrm{d} t} &= a S I - b I, \\\\\n",
    "   \\frac{\\mathrm{d} R}{\\mathrm{d} t} &= b I,\n",
    "\\end{align}  \n",
    "where \\(a,b \\in \\mathbf{R}_{> 0}\\). Recall from the video that the total number of people doesn't change. Since the total number of people is \\(S + I + R\\), our model should imply that the time derivative of \\(S + I + R\\) should vanish; and indeed it does:\n",
    "\\begin{equation}\n",
    "  \\frac{\\mathrm{d} S}{\\mathrm{d} t} +  \\frac{\\mathrm{d} I}{\\mathrm{d} t} +  \n",
    "   \\frac{\\mathrm{d} R}{\\mathrm{d} t}  = (-a S I) +  (a S I - b I) + (b I) = 0.\n",
    "\\end{equation}\n",
    "Accordingly, to solve the SIR model we would like to use a numerical method that exactly keeps the sum \\(S + I + R\\) a constant.  Let's keep that in mind.\n",
    "\n",
    "\n",
    "\n",
    "As done  previously, we'll base our numerical method on one of our three basic integration rules (left point, right point, or  trapezoidal  rule). To start we have\n",
    "\\begin{align}\n",
    "   \\int_{t_k}^{t_{k+1}}  \\frac{\\mathrm{d} S}{\\mathrm{d} t}  \\mathrm{d} t &=  \\int_{t_k}^{t_{k+1}} -a S I \\, \\mathrm{d} t, \\\\\n",
    "   \\int_{t_k}^{t_{k+1}} \\frac{\\mathrm{d} I}{\\mathrm{d} t} \\mathrm{d} t   &=  \\int_{t_k}^{t_{k+1}} a S I - b I  \\, \\mathrm{d} t, \\\\\n",
    "   \\int_{t_k}^{t_{k+1}} \\frac{\\mathrm{d} R}{\\mathrm{d} t} \\mathrm{d} t  &=  \\int_{t_k}^{t_{k+1}} b I   \\, \\mathrm{d} t.\n",
    "\\end{align}  \n",
    "Using the FTC to \\emph{exactly} integrate the left sides yeilds\n",
    "\\begin{align}\n",
    "    S_{k+1} - S_k  &=  \\int_{t_k}^{t_{k+1}} -a S I  \\, \\mathrm{d} t, \\\\\n",
    "    I_{k+1} - I_k   &=  \\int_{t_k}^{t_{k+1}} a S I - b I  \\,  \\mathrm{d} t, \\\\\n",
    "    R_{k+1} -  R_k  &=  \\int_{t_k}^{t_{k+1}} b I  \\, \\mathrm{d} t.\n",
    "\\end{align}  \n",
    "Since the left point integration rule gives an explicit method, let's try it before we try the right point integration rule.  Assuming a constant step size \\(h\\), we have\n",
    "\\begin{align}\n",
    "    S_{k+1} - S_k  &\\approx  -h a S_k I_k, \\\\\n",
    "    I_{k+1} - I_k   &\\approx  h ( a S_k I_k - b I_k), \\\\\n",
    "    R_{k+1} -  R_k  &\\approx  h  b I_k.\n",
    "\\end{align} \n",
    "Solving for \\(S_{k+1}, I_{k+1}\\), and \\(R_{k+1}\\) gives\n",
    "\\begin{align}\n",
    "    S_{k+1}  &\\approx  S_k  -h a S_k I_k, \\\\\n",
    "    I_{k+1}  &\\approx  I_k + h ( a S_k I_k - b I_k), \\\\\n",
    "    R_{k+1}  &\\approx  R_k + h b I_k.\n",
    "\\end{align}\n",
    "Putting hats on these values and replacing \\(\\approx\\) by \\(=\\) gives the Euler method for our system of DEs; it is\n",
    "\\begin{align}\n",
    "     \\widehat S_{k+1}  &=  \\widehat S_k  -h a  \\widehat S_k   \\widehat I_k, \\\\\n",
    "     \\widehat I_{k+1}  &=   \\widehat I_k + h ( a  \\widehat S_k   \\widehat I_k - b  \\widehat I_k), \\\\\n",
    "     \\widehat R_{k+1}  &=   \\widehat R_k + h b  \\widehat I_k.\n",
    "\\end{align}\n",
    "Remember that we would like for the sum \\(S_k + I_k + R_k\\) to remain a constant.  Adding these three equations gives\n",
    "\\[\n",
    "   \\widehat S_{k+1} + \\widehat I_{k+1}  + \\widehat R_{k+1} = \\widehat S_{k} + \\widehat I_{k}  + \\widehat R_{k}.\n",
    "\\] \n",
    "We have a happy coincidence  that the Euler method \\emph{exactly} conserves the total number of people. So in this case, using the simplest method (the left point integration rule), has a desirable property that it conserves the total number of people. In our next Lesson, we'll examine a system of DEs where it is an advantage to integrate some equations using left point  integration and others using right point integration. But for the SIR model, a purely left point integration  seems be pretty good because it conserves the number of people.\n",
    "\n",
    "For a special case, we worked through the Euler method for a system of DEs, but our work generalizes to other systems. Specially, let's write a Julia function that uses the Euler method on the DEs\n",
    "\\begin{align}\n",
    "  \\frac{\\mathrm{d} Z_1}{\\mathrm{d} t } &= F_1(t,Z_1, Z_2,  \\dots, Z_n), \\\\\n",
    "  \\frac{\\mathrm{d} Z_2}{\\mathrm{d} t } &= F_2(t,Z_1,  Z_2, \\dots, Z_n), \\\\\n",
    "  \\dots &= \\dots, \\\\\n",
    "  \\frac{\\mathrm{d} Z_n}{\\mathrm{d} t } &= F_n(t,Z_1,  Z_2, \\dots, Z_n). \n",
    "\\end{align}\n",
    "Here the subscripts on the functions don't indicate partial derivatives, they just enumerate distinct functions.\n",
    "To convert this into a Julia function, we'll need to use an array valued function that takes as its first argument a scalar \\(t\\) and as its second argument an array. Julia allows for all this in a fairly simple way (array arithmetic). \n",
    "Actually, for the SIR model, the time \\( t\\) doesn't explicitly appear in the DEs, so we could have our function be solely a function of the unknown functions \\(Z_1\\) through \\(Z_n\\). But including dependence on \\(t\\) doesn't make the code more complex and it makes it the code more general. We should build a method that automatically adjusts the step size, but we'll save this for another lesson.\n"
   ]
  },
  {
   "cell_type": "code",
   "execution_count": null,
   "metadata": {},
   "outputs": [],
   "source": [
    "using Gadfly;"
   ]
  },
  {
   "cell_type": "code",
   "execution_count": null,
   "metadata": {},
   "outputs": [],
   "source": [
    "function euler_system(F::Function, z0::Array, t0::Number, tf::Number, N::Integer)\n",
    "    h = (tf-t0)/N #constant stepsize \n",
    "    Za = Array{typeof(z0),1}(undef, N)  #store values in an array of arrays\n",
    "    Ta = Array{typeof(t0),1}(undef, N)  #store time steps in an array of arrays\n",
    "    k = 1  \n",
    "    while k <= N\n",
    "        Za[k] = z0 \n",
    "        Ta[k] = t0\n",
    "        z0 += h*F(t0, z0)\n",
    "        t0 += h\n",
    "        k += 1\n",
    "    end\n",
    "    Ta, Za #return both the array of the independent and dependent variables\n",
    "end;"
   ]
  },
  {
   "cell_type": "raw",
   "metadata": {},
   "source": [
    "If you want to quibble with the efficiency of this code, you can pick on the fact that when \\(k = N\\) it updates the value of \\(z0\\), but that last value isn't stored. If this annoys you, a fix will likely involve a few more lines of code.\n",
    "\n",
    "Let's try this on the SIR model\n",
    "\\begin{align}\n",
    "   \\frac{\\mathrm{d} S}{\\mathrm{d} t} &= -0.63 S I, \\\\\n",
    "   \\frac{\\mathrm{d} I}{\\mathrm{d} t} &= 0.63 S I - 0.15 I, \\\\\n",
    "   \\frac{\\mathrm{d} R}{\\mathrm{d} t} &= 0.15  I,\n",
    "\\end{align}  \n",
    "with the initial conditions\n",
    "\\begin{equation}\n",
    "   S = 0.99, \\quad I = 0.01, \\quad R = 0.0,\n",
    "\\end{equation}\n",
    "when \\(t = 0\\).  Thus initially,  \\(1 \\% \\) of the population is infected, \\(99\\% \\) of the population is susceptible, and \\(0\\% \\) have recovered.\n",
    "As an array, we will encode these three values  as \\(x = [S, I, R]\\).  Our function  F is given as:"
   ]
  },
  {
   "cell_type": "code",
   "execution_count": null,
   "metadata": {},
   "outputs": [],
   "source": [
    "F = (t, x) ->  [-0.63 * x[1]*x[2], 0.63 * x[1]*x[2] - 0.15*x[2], 0.15*x[2]];"
   ]
  },
  {
   "cell_type": "raw",
   "metadata": {},
   "source": [
    "We'll try integrating our model from 0 to 40 using 1 000 steps"
   ]
  },
  {
   "cell_type": "code",
   "execution_count": null,
   "metadata": {},
   "outputs": [],
   "source": [
    "Ta, Za = euler_system(F, [0.99, 0.01, 0.0], 0.0, 40.0, 10^3);"
   ]
  },
  {
   "cell_type": "raw",
   "metadata": {},
   "source": [
    "To make a nice graph, we need to extract the first, second, and third members of the array Za.  Oddly, Julia has a \n",
    "function first, but no function second or third--OK fine, we'll define our own. "
   ]
  },
  {
   "cell_type": "code",
   "execution_count": null,
   "metadata": {},
   "outputs": [],
   "source": [
    "second = x -> x[2];"
   ]
  },
  {
   "cell_type": "code",
   "execution_count": null,
   "metadata": {},
   "outputs": [],
   "source": [
    "third = x -> x[3];"
   ]
  },
  {
   "cell_type": "raw",
   "metadata": {},
   "source": [
    "Plotting all these together with a nice legend gives"
   ]
  },
  {
   "cell_type": "code",
   "execution_count": null,
   "metadata": {
    "scrolled": true
   },
   "outputs": [],
   "source": [
    "plot(layer(x=Ta,y=map(first,Za),Geom.line,Theme(default_color=colorant\"green\")), \n",
    "     layer(x=Ta,y=map(second,Za),Geom.line, Theme(default_color=colorant\"red\")),  \n",
    "     layer(x=Ta,y=map(third,Za),Geom.line, Theme(default_color=colorant\"black\")),\n",
    "        Guide.manual_color_key(\"Legend\", \n",
    "            [\"Susceptible\", \"Infected\", \"Recovered\"], [\"green\", \"red\", \"black\"]))"
   ]
  },
  {
   "cell_type": "raw",
   "metadata": {},
   "source": [
    "\\section*{Stability}\n",
    "\n",
    "We say that a numerical method for solving an IVP is \\emph{stable} if the errors do not grow exponentially. Use this way, stabilty refers \\emph{not} to the IVP, but to the numerical method. But the stabilty of a numerical method depends on the DE.\n",
    "\n",
    "Without knowing the true solution, the best we can do is to bound the growth of the error. In general, the process bounding the growth rate of the error is to (1)  subtract a representation for the true solution from the numerical solution, (2) make some approximations, and (3) determine a linear relation between the error at one time step to the next. If, for example,  for some IVP and numerical method, we find the the relation between the error  \\(E\\) at time step \\(k\\) to time step \\(k+1\\) is\n",
    "\\[\n",
    "  E(k+1) = (1  - h/2) E_k\n",
    "\\]\n",
    "we say that  \\( 1  - h/2 \\) is the \\emph{error multiplier}. The error multiplier tells us how much the error is magnified (or diminished) going from one time step to the next. To prevent the error from growing exponentially, we need the error multiplier to have magnitude or less.  For the error multiplier \\(1 - h/2\\), the method is stable provided\n",
    "\\[\n",
    "   -1 \\leq 1 - h/2 < 1\n",
    "\\]\n",
    "And this is equivalent to \\(0 \\leq h leq 4 \\). Not too suprisingly, for a system of equations, the error multipler is a matrix. In this case, we require that a matrix norm of the error multiplier have magnitude less than one. \n",
    "\n",
    "For the SIR model, let's try this process. The true solution satisfies\n",
    "\\begin{align}\n",
    "     S_{k+1}  &=  S_k  -h a  S_k  I_k + \\mathrm{O}(h^2), \\\\\n",
    "     I_{k+1}  &=   I_k + h ( a  S_k   I_k - b   I_k) +  \\mathrm{O}(h^2), \\\\\n",
    "     R_{k+1}  &=   R_k + h b I_k +  \\mathrm{O}(h^2).\n",
    "\\end{align}\n",
    "And the Euler solution satsifies\n",
    "\\begin{align}\n",
    "     \\widehat S_{k+1}  &=  \\widehat S_k  -h a  \\widehat S_k   \\widehat I_k, \\\\\n",
    "     \\widehat I_{k+1}  &=   \\widehat I_k + h ( a  \\widehat S_k   \\widehat I_k - b  \\widehat I_k), \\\\\n",
    "     \\widehat R_{k+1}  &=   \\widehat R_k + h b  \\widehat I_k.\n",
    "\\end{align}\n",
    "Lined up this way, it suggests subtracting the Euler solution from the true solution. And it's fairly natural to \n",
    "define the difference of the true and Euler solution as\n",
    "\\begin{equation}\n",
    "   E_s(k) = S_k - \\widehat S_k, \\quad E_i(k) = I_k - \\widehat I_k,  \\quad E_r(k) = R_k - \\widehat R_k.\n",
    "\\end{equation}\n",
    "We used \\(E\\) for this differences to remind of an \\emph{error}. If we ignore all terms that vanish like \\(h^2\\) and if we ignore all products of the errors (for example, \\(E_s(k) E_i(k) \\approx 0\\)), we discover that there is a linear relation between the error at step \\(k+1\\) and step \\(k\\). The\n",
    "linear relation is\\footnote{By hand, such calculations can be tedious--adroitness with a computer algebra system comes in handy.}\n",
    "\\[\n",
    "\\begin{bmatrix}\n",
    "  E_s(k + 1) \\\\ E_i(k+1) \\\\ E_r(k+1) \n",
    "\\end{bmatrix}=  \n",
    "\\begin{bmatrix}1-a h I_k  & -a h S_k & 0\\\\\n",
    "a h I_k & a h S_k -b+1 & 0\\\\\n",
    "0 & b h & 1\\end{bmatrix}\n",
    " \\begin{bmatrix}\n",
    "  E_s(k) \\\\ E_i(k) \\\\ E_r(k) \n",
    "\\end{bmatrix}.\n",
    "\\]\n",
    "The matrix\n",
    "\\[\n",
    "\\begin{bmatrix}1-a h I_k  & -a h S_k & 0\\\\\n",
    "a h I_k & a h S_k -b+1 & 0\\\\\n",
    "0 & b h & 1\\end{bmatrix}\n",
    "\\]\n",
    "is the \\emph{error  multiplier}. To keep the errors from growing, we need to have a norm of this matrix be smaller than 1.  The one norm (largest absolute column sum) of this matrix is\n",
    "\\[\n",
    "\\operatorname{max}\\left( 1,\\left| a h I_k-1\\right| +a h\\, \\left| I_k\\right| ,\\left| a h S_k-b+1\\right| +a h\\, \\left| S_k\\right| +b h\\right) .\n",
    "\\]\n",
    "Assuming that \\(0 \\leq a h I_k \\leq 1\\), \\(0 \\leq S_k \\leq 1\\),  and  \\( a h S_k-b+1 \\geq 0\\), the one norm of the error  multiplier  simplifies to \n",
    "\\[\n",
    "  \\operatorname{max}\\left( 1, 1 - b + b h \\right)\n",
    "\\]\n",
    "Provided that   \\( h <  1\\), we have  \\(1 - b + b h < 1\\), so the one norm of the error  multiplier  is one.  So the method barely squeaks by and is stable. \n",
    "\n",
    "But I know what you are thinking: Why the one norm, why not the  infinity norm?  What's the infinity norm of the error  multiplier  matrix?  Oops--the absolute row sum of the last row is \\(1 + | b h|\\). And that's greater than one unless either \\(b=0\\) or \\(h = 0\\). Using the matrix infinty norm, the Euler  method is unstable for all step sizes, and the error potentially  grows exponentially.\n",
    "\n",
    "For SIR model, the value of \\(R\\) steadily  rises, and initially it increases approximately exponentially. Thus it's possibly not a disaster when the error for \\(R\\) has a slow exponential growth rate. All things considered, the Euler method for the SIR model is arguably adequate.\n",
    "\n",
    "Maybe it's a bit frightening that the method is stable with respect to one norm, but not with respect to the adequate  norm.  But remember that these are \\emph{approximate upper bounds} for the growth of the error, and as such upper bounds are usually pessimistic. The one norm bound is somewhat less pessimistic than is the infinity norm. \n",
    "\n"
   ]
  },
  {
   "cell_type": "code",
   "execution_count": null,
   "metadata": {},
   "outputs": [],
   "source": []
  }
 ],
 "metadata": {
  "kernelspec": {
   "display_name": "Julia 1.4.0",
   "language": "julia",
   "name": "julia-1.4"
  },
  "language_info": {
   "file_extension": ".jl",
   "mimetype": "application/julia",
   "name": "julia",
   "version": "1.4.0"
  }
 },
 "nbformat": 4,
 "nbformat_minor": 2
}
