{
 "cells": [
  {
   "cell_type": "markdown",
   "metadata": {},
   "source": [
    "### Matrix condition number\n",
    "__MATH 420__ <br>\n",
    "_Spring 2021_ <br>\n",
    "\n",
    "To use Julia's code for the matrix condition number, we'll need to load the `LinearAlgebra` package. If you have not already added this package, you will need to first use the package manager to install it."
   ]
  },
  {
   "cell_type": "code",
   "execution_count": null,
   "metadata": {},
   "outputs": [],
   "source": [
    "using LinearAlgebra,Gadfly"
   ]
  },
  {
   "cell_type": "markdown",
   "metadata": {},
   "source": [
    "The function `trimatrix` can be used to construct a symmetric tridiagonal matrix with main diagonal of 2 and subdiagonals of `x`"
   ]
  },
  {
   "cell_type": "code",
   "execution_count": null,
   "metadata": {},
   "outputs": [],
   "source": [
    "function trimatrix(i,j,x)\n",
    "    if i == j\n",
    "        2\n",
    "    elseif abs(i-j) == 1\n",
    "        x\n",
    "    else\n",
    "        0\n",
    "    end\n",
    "end"
   ]
  },
  {
   "cell_type": "markdown",
   "metadata": {},
   "source": [
    "An example: let's find the infinity norm condition number of a $10 \\times 10$ matrix with subdiagonals of -1."
   ]
  },
  {
   "cell_type": "code",
   "execution_count": null,
   "metadata": {},
   "outputs": [],
   "source": [
    "M = [trimatrix(i,j,-1) for i in 1:10,j in 1:10]"
   ]
  },
  {
   "cell_type": "code",
   "execution_count": null,
   "metadata": {},
   "outputs": [],
   "source": [
    "cond(M,Inf)"
   ]
  },
  {
   "cell_type": "markdown",
   "metadata": {},
   "source": [
    "To study the condition number of this matrix for various values of $x$ and size $n$, we can do this"
   ]
  },
  {
   "cell_type": "code",
   "execution_count": null,
   "metadata": {},
   "outputs": [],
   "source": [
    "function Mc(x,n)\n",
    "    cond([trimatrix(i,j,x) for i in 1:n, j in 1:n], Inf)\n",
    "end"
   ]
  },
  {
   "cell_type": "markdown",
   "metadata": {},
   "source": [
    "First, for $x = -1$, let's look at the infinity norm condition number as a function of matrix size"
   ]
  },
  {
   "cell_type": "code",
   "execution_count": null,
   "metadata": {},
   "outputs": [],
   "source": [
    "plot(n -> Mc(-1,floor(n)), 2,50)"
   ]
  },
  {
   "cell_type": "markdown",
   "metadata": {},
   "source": [
    "Second, for a size of $100 \\times 100$, let's look at the common logarithm of the condition number as a function of $x$."
   ]
  },
  {
   "cell_type": "code",
   "execution_count": null,
   "metadata": {},
   "outputs": [],
   "source": [
    "plot(x -> log10(Mc(x,50)), -2,2)"
   ]
  },
  {
   "cell_type": "markdown",
   "metadata": {},
   "source": [
    "I know what you are thinking--is this graph for real? Yes, mostly it is, but in reality, the peaks are singularities--by this, we mean that the function \"blows up\" at these peaks. Additionally, the algorithm that finds the condition number is an estimate, but it's not guaranteed to be either a lower or an upper bound--just a pretty good value."
   ]
  },
  {
   "cell_type": "code",
   "execution_count": null,
   "metadata": {},
   "outputs": [],
   "source": [
    "plot(x -> log10(Mc(x,100)), 0,2)"
   ]
  },
  {
   "cell_type": "code",
   "execution_count": null,
   "metadata": {
    "scrolled": true
   },
   "outputs": [],
   "source": [
    "plot(x -> Mc(x,3), 2,4)"
   ]
  },
  {
   "cell_type": "markdown",
   "metadata": {},
   "source": [
    "For the $3 \\times 3$ case, the exact value of the infinity norm condition number is"
   ]
  },
  {
   "cell_type": "code",
   "execution_count": null,
   "metadata": {},
   "outputs": [],
   "source": [
    "FFF = x -> 2*(abs(x)+1)*max((abs(x)+1)/abs(x^2-2),(abs(x^2-4)+2*abs(x)+x^2)/(4*abs(x^2-2)))"
   ]
  },
  {
   "cell_type": "markdown",
   "metadata": {},
   "source": [
    "Although Julia's matrix condition number is an estimate, at least for the $3 \\times 3$ \n",
    "case it is accurate for this case:"
   ]
  },
  {
   "cell_type": "code",
   "execution_count": null,
   "metadata": {},
   "outputs": [],
   "source": [
    "plot([x -> log10(Mc(x,3)), x -> log10(FFF(x))], -1.4,1.4)"
   ]
  },
  {
   "cell_type": "code",
   "execution_count": null,
   "metadata": {},
   "outputs": [],
   "source": []
  }
 ],
 "metadata": {
  "kernelspec": {
   "display_name": "Julia 1.10.0",
   "language": "julia",
   "name": "julia-1.10"
  },
  "language_info": {
   "file_extension": ".jl",
   "mimetype": "application/julia",
   "name": "julia",
   "version": "1.10.0"
  }
 },
 "nbformat": 4,
 "nbformat_minor": 2
}
