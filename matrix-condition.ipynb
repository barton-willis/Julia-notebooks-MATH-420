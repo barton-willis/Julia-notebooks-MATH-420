{
 "cells": [
  {
   "cell_type": "raw",
   "metadata": {},
   "source": [
    "To use Julia's code for the matrix condition number, we'll need to load the \\textbf{LinearAlgebra} package. If you have not already added this package you will need to first use \\textbf{Pkg.add(\"LinearAlgebra\")}"
   ]
  },
  {
   "cell_type": "code",
   "execution_count": null,
   "metadata": {},
   "outputs": [],
   "source": [
    "using Pkg"
   ]
  },
  {
   "cell_type": "code",
   "execution_count": null,
   "metadata": {},
   "outputs": [],
   "source": [
    "Pkg.add(\"LinearAlgebra\")"
   ]
  },
  {
   "cell_type": "code",
   "execution_count": null,
   "metadata": {},
   "outputs": [],
   "source": [
    "using LinearAlgebra"
   ]
  },
  {
   "cell_type": "code",
   "execution_count": null,
   "metadata": {},
   "outputs": [],
   "source": [
    "using Gadfly"
   ]
  },
  {
   "cell_type": "raw",
   "metadata": {},
   "source": [
    "The function trimatrix constucts a symmetric tridiagonal matrix with main diagonal of 1 and subdiagonals of x"
   ]
  },
  {
   "cell_type": "code",
   "execution_count": null,
   "metadata": {},
   "outputs": [],
   "source": [
    "function trimatrix(i,j,x)\n",
    "    if i == j\n",
    "        2\n",
    "    elseif abs(i-j) == 1\n",
    "        x\n",
    "    else\n",
    "        0\n",
    "    end\n",
    "end"
   ]
  },
  {
   "cell_type": "raw",
   "metadata": {},
   "source": [
    "An example: let's find the infinity norm condition number of a \\(10 \\times 10\\) matrix with subdiagonals of -1."
   ]
  },
  {
   "cell_type": "code",
   "execution_count": null,
   "metadata": {},
   "outputs": [],
   "source": [
    "M = [trimatrix(i,j,-1) for i = 1:10,j = 1:10]"
   ]
  },
  {
   "cell_type": "code",
   "execution_count": null,
   "metadata": {},
   "outputs": [],
   "source": [
    "cond(M,Inf)"
   ]
  },
  {
   "cell_type": "raw",
   "metadata": {},
   "source": [
    "To study the condition number of this matrix for various values of \\(x\\) and size \\(n\\), we can do this"
   ]
  },
  {
   "cell_type": "code",
   "execution_count": null,
   "metadata": {},
   "outputs": [],
   "source": [
    "function Mc(x,n)\n",
    "    cond([trimatrix(i,j,x) for i = 1:n, j = 1:n], Inf)\n",
    "end"
   ]
  },
  {
   "cell_type": "raw",
   "metadata": {},
   "source": [
    "First, for \\(x = -1\\), let's look at the infinity norm condition number as a function of matrix size"
   ]
  },
  {
   "cell_type": "code",
   "execution_count": null,
   "metadata": {},
   "outputs": [],
   "source": [
    "plot(n -> Mc(-1,floor(n)), 2,50)"
   ]
  },
  {
   "cell_type": "raw",
   "metadata": {},
   "source": [
    "Second, for a size of \\(100 \\times 100\\), let's look at the common logarithm of the condition number as a function of \\(x\\)."
   ]
  },
  {
   "cell_type": "code",
   "execution_count": null,
   "metadata": {},
   "outputs": [],
   "source": [
    "plot(x -> log10(Mc(x,50)), -2,2)"
   ]
  },
  {
   "cell_type": "raw",
   "metadata": {},
   "source": [
    "I know what you are thinking--is this graph for real? Yes, mostly it is, but in reality, the peaks are singularities--by this, we mean that the function \"blows up\" at these peaks. Additionally, the algorithm that finds the condition number is an estimate, but it's not guaranteed to be either a lower or an upper bound--just a pretty good value."
   ]
  },
  {
   "cell_type": "code",
   "execution_count": null,
   "metadata": {},
   "outputs": [],
   "source": [
    "plot(x -> log10(Mc(x,100)), 0,2)"
   ]
  },
  {
   "cell_type": "code",
   "execution_count": null,
   "metadata": {
    "scrolled": true
   },
   "outputs": [],
   "source": [
    "plot(x -> Mc(x,3), 2,4)"
   ]
  },
  {
   "cell_type": "raw",
   "metadata": {},
   "source": [
    "For the \\(3 \\times 3\\) case, the exact value of the infinity norm condition number is"
   ]
  },
  {
   "cell_type": "code",
   "execution_count": null,
   "metadata": {},
   "outputs": [],
   "source": [
    "FFF = x -> 2*(abs(x)+1)*max((abs(x)+1)/abs(x^2-2),(abs(x^2-4)+2*abs(x)+x^2)/(4*abs(x^2-2)))"
   ]
  },
  {
   "cell_type": "raw",
   "metadata": {},
   "source": [
    "Although Julia's matrix condition number is an estimate, at least for the \\(3 \\times 3\\) case it is accurate for this case:"
   ]
  },
  {
   "cell_type": "code",
   "execution_count": null,
   "metadata": {},
   "outputs": [],
   "source": [
    "plot([x -> log10(Mc(x,3)), x -> log10(FFF(x))], -1.4,1.4)"
   ]
  },
  {
   "cell_type": "code",
   "execution_count": null,
   "metadata": {},
   "outputs": [],
   "source": []
  }
 ],
 "metadata": {
  "kernelspec": {
   "display_name": "Julia 1.5.3",
   "language": "julia",
   "name": "julia-1.5"
  },
  "language_info": {
   "file_extension": ".jl",
   "mimetype": "application/julia",
   "name": "julia",
   "version": "1.5.3"
  }
 },
 "nbformat": 4,
 "nbformat_minor": 2
}
