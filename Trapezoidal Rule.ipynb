{
 "cells": [
  {
   "cell_type": "markdown",
   "metadata": {},
   "source": [
    "## Trapezoidal  Rule\n",
    "__MATH 420__ <br>\n",
    "_Spring 2021_ <br>\n",
    "\n",
    "Here is a Julia implementation of the n-panel trapezoidal rule.  "
   ]
  },
  {
   "cell_type": "code",
   "execution_count": null,
   "metadata": {},
   "outputs": [],
   "source": [
    "function trapezodial_rule(F::Function, a::Number, b::Number, n::Integer)\n",
    "    h = (b-a)/n #step size--negative is OK\n",
    "    s = (F(a) + F(b))/2 #weights at endpoints is 1/2\n",
    "    for k=1:n-1\n",
    "      s += F(a+h*k)\n",
    "    end\n",
    "    h*s\n",
    "end"
   ]
  },
  {
   "cell_type": "raw",
   "metadata": {},
   "source": [
    "The  trapezoidal  rule is exact for polynomials of at most one.  Let's check some cases:"
   ]
  },
  {
   "cell_type": "code",
   "execution_count": null,
   "metadata": {},
   "outputs": [],
   "source": [
    " trapezodial_rule(x -> 1,0,1,1)"
   ]
  },
  {
   "cell_type": "code",
   "execution_count": null,
   "metadata": {},
   "outputs": [],
   "source": [
    " trapezodial_rule(x -> 1,0,1,100)"
   ]
  },
  {
   "cell_type": "code",
   "execution_count": null,
   "metadata": {},
   "outputs": [],
   "source": [
    " trapezodial_rule(x -> 2x, 0,1,1)"
   ]
  },
  {
   "cell_type": "code",
   "execution_count": null,
   "metadata": {},
   "outputs": [],
   "source": [
    " trapezodial_rule(x -> 2x, 0,1,100)"
   ]
  },
  {
   "cell_type": "markdown",
   "metadata": {},
   "source": [
    "If fast was our main goal, should replace ` F(a+h*k)` by updating the knot by adding `h` after each function evaluation"
   ]
  },
  {
   "cell_type": "code",
   "execution_count": null,
   "metadata": {},
   "outputs": [],
   "source": [
    "function trapezodial_rule2(F::Function, a::Number, b::Number, n::Integer)\n",
    "    h = (b-a)/n #step size--negative is OK\n",
    "    s = (F(a) + F(b))/2 #weights at endpoints is 1/2\n",
    "    a = a+h #overwrite a--that's OK!\n",
    "    for k=1:n-1\n",
    "      s += F(a)\n",
    "      a += h\n",
    "    end\n",
    "    @show(a)\n",
    "    h*s\n",
    "end"
   ]
  },
  {
   "cell_type": "markdown",
   "metadata": {},
   "source": [
    "Is it really any faster? Let's try\n",
    "$$\n",
    " \\int_0^{10} \\exp(x) \\, \\mathrm{d} x = \\exp(10) - 1\n",
    "$$\n",
    "\n",
    "Yes, __but__"
   ]
  },
  {
   "cell_type": "code",
   "execution_count": null,
   "metadata": {},
   "outputs": [],
   "source": [
    " I1 = @time trapezodial_rule(exp, 0,10,10^7)"
   ]
  },
  {
   "cell_type": "code",
   "execution_count": null,
   "metadata": {},
   "outputs": [],
   "source": [
    "I2 = @time trapezodial_rule2(exp, 0,10.0,10^7)"
   ]
  },
  {
   "cell_type": "markdown",
   "metadata": {},
   "source": [
    "But wait! The values are different!  Which is more accurate? Subtracting the true value, we see that the slow and steady wins the race! The error using `trapezodial_rule` is _far less_ than the error for `trapezodial_rule2`"
   ]
  },
  {
   "cell_type": "code",
   "execution_count": null,
   "metadata": {},
   "outputs": [],
   "source": [
    "I1 - (exp(10.0) -1)"
   ]
  },
  {
   "cell_type": "code",
   "execution_count": null,
   "metadata": {},
   "outputs": [],
   "source": [
    "I2 - (exp(10.0) -1)"
   ]
  },
  {
   "cell_type": "markdown",
   "metadata": {},
   "source": [
    "What's the story? By the time `trapezodial_rule2` evaluates the last knot (in this case 10), it has computed this value with $10^7$ additions. Each addition gives an error bounded above by the machine epsilon. After doing this many additions, the value can differ a fair amount from its true value. To see this experimentally, add a line that shows the final value of $a$ to `trapezodial_rule2` "
   ]
  },
  {
   "cell_type": "code",
   "execution_count": null,
   "metadata": {},
   "outputs": [],
   "source": [
    "function trapezodial_rule2(F::Function, a::Number, b::Number, n::Integer)\n",
    "    h = (b-a)/n #step size--negative is OK\n",
    "    s = (F(a) + F(b))/2 #weights at endpoints is 1/2\n",
    "    a = a+h #overwrite a--that's OK!\n",
    "    for k=1:n-1\n",
    "      s += F(a)\n",
    "      a += h\n",
    "    end\n",
    "    @show(a)\n",
    "    h*s\n",
    "end"
   ]
  },
  {
   "cell_type": "raw",
   "metadata": {},
   "source": [
    "The true value of the last value of `a` is 10, but due to rounding errors it is $9.999999999267517$. "
   ]
  },
  {
   "cell_type": "code",
   "execution_count": null,
   "metadata": {},
   "outputs": [],
   "source": [
    "I2 = @time trapezodial_rule2(exp, 0,10.0,10^7)"
   ]
  },
  {
   "cell_type": "raw",
   "metadata": {},
   "source": [
    "In the trade-off between speed and accuracy, I like to favor accuracy. Accordingly, let's stick to our first version of the trapezodial rule.\n",
    "\n",
    "Let's define $T_n$ to be the n-panel trapezodial rule estimation to \n",
    "$$\n",
    "  \\int_0^{10} x \\exp(x-10) \\, \\mathrm{d} x.\n",
    "$$\n",
    "Let's sketch the graph of $T$"
   ]
  },
  {
   "cell_type": "code",
   "execution_count": null,
   "metadata": {},
   "outputs": [],
   "source": [
    "using Gadfly"
   ]
  },
  {
   "cell_type": "code",
   "execution_count": null,
   "metadata": {},
   "outputs": [],
   "source": [
    "xx = [n for n=10:50];"
   ]
  },
  {
   "cell_type": "code",
   "execution_count": null,
   "metadata": {},
   "outputs": [],
   "source": [
    "yy  = [trapezodial_rule(x -> x*exp(x)/exp(10),0,10,n) for n = 10:50];"
   ]
  },
  {
   "cell_type": "raw",
   "metadata": {},
   "source": [
    "The graph looks ``predictible.'' Actually, the theory is tells us that there is a constant $c_2$ such that\n",
    "$$\n",
    "  T_n = I + \\frac{c_2}{n^2} + E_n\n",
    "$$\n",
    "where $I$ is the true value of the integral and\n",
    "$$\n",
    "  \\lim_{n \\to \\inf) n^3 E_n = 0.\n",
    "$$"
   ]
  },
  {
   "cell_type": "code",
   "execution_count": null,
   "metadata": {},
   "outputs": [],
   "source": [
    " plot(x=xx,y=yy,color=[colorant\"blue\"])"
   ]
  },
  {
   "cell_type": "raw",
   "metadata": {},
   "source": [
    "The true value of the integral is $ I = 9 + \\exp(-10)$. We have\n",
    "$$\n",
    "   \\lim_{n \\to \\inf} (T_n - I) n^2 = c_2\n",
    "$$\n",
    "Let's graphically find $c_2$"
   ]
  },
  {
   "cell_type": "code",
   "execution_count": null,
   "metadata": {},
   "outputs": [],
   "source": [
    "I = 9 + exp(-10)"
   ]
  },
  {
   "cell_type": "code",
   "execution_count": null,
   "metadata": {},
   "outputs": [],
   "source": [
    "yyy = [n^2 * (yy[n-9] - I) for n=10:50];"
   ]
  },
  {
   "cell_type": "code",
   "execution_count": null,
   "metadata": {},
   "outputs": [],
   "source": [
    "plot(x=xx,y=yyy,color=[colorant\"blue\"])"
   ]
  },
  {
   "cell_type": "raw",
   "metadata": {},
   "source": [
    "A bit better\n",
    "$$\n",
    "  T_{2n} = I + \\frac{c_2}{4 n^2} + E_{2n},  \\quad  T_{n} = I + \\frac{c_2}{n^2} + E_{n}\n",
    "$$\n",
    "gives\n",
    "$$\n",
    "   I=\\frac{4 \\operatorname{T}\\left( 2 n\\right) }{3}-\\frac{4 \\operatorname{E}\\left( 2 n\\right) }{3}-\\frac{\\operatorname{T}(n)}{3}+\\frac{\\operatorname{E}(n)}{3}\n",
    "$$\n",
    "and\n",
    "$$\n",
    " \\mathit{c2}=-\\frac{4 {{n}^{2}} \\operatorname{T}\\left( 2 n\\right) }{3}+\\frac{4 {{n}^{2}} \\operatorname{E}\\left( 2 n\\right) }{3}+\\frac{4 {{n}^{2}} \\operatorname{T}(n)}{3}-\\frac{4 {{n}^{2}} \\operatorname{E}(n)}{3}\n",
    " $$\n",
    "Assuming that the $E$ terms are small, we have\n",
    "$$\n",
    "  I = \\frac{4}{3} T_{2n} - \\frac{1}{3} T_n.\n",
    "$$\n",
    "This is the Simpson rule."
   ]
  },
  {
   "cell_type": "code",
   "execution_count": null,
   "metadata": {},
   "outputs": [],
   "source": [
    "xxxx = [n for n = 10 : 25];"
   ]
  },
  {
   "cell_type": "code",
   "execution_count": null,
   "metadata": {},
   "outputs": [],
   "source": [
    "yyyy = [ (4* yy[2*(n-9)] - yy[n-9])/3 for n=10:25]"
   ]
  },
  {
   "cell_type": "code",
   "execution_count": null,
   "metadata": {
    "scrolled": true
   },
   "outputs": [],
   "source": [
    " plot(layer(x=xxxx,y=yyyy,Geom.point,color=[colorant\"red\"]), \n",
    "      layer(x=xx,y=yy, Geom.point,color=[colorant\"blue\"]))"
   ]
  },
  {
   "cell_type": "raw",
   "metadata": {},
   "source": [
    "Let's try integrating \n",
    "$$\n",
    "  \\int_0^\\pi \\sin^2(x) \\, \\mathrm{d} x.\n",
    "$$\n",
    "The true value is $\\pi/2$"
   ]
  },
  {
   "cell_type": "code",
   "execution_count": null,
   "metadata": {},
   "outputs": [],
   "source": [
    "xx = [n for n=10:50];"
   ]
  },
  {
   "cell_type": "code",
   "execution_count": null,
   "metadata": {},
   "outputs": [],
   "source": [
    "yy  = [trapezodial_rule(x -> sin(x)^2,0,pi,n) for n = 10:50]"
   ]
  },
  {
   "cell_type": "markdown",
   "metadata": {},
   "source": [
    "This time, the graph doesn't look predictable--it looks like a jumpy mess!"
   ]
  },
  {
   "cell_type": "code",
   "execution_count": null,
   "metadata": {},
   "outputs": [],
   "source": [
    "plot(x=xx,y=yy,color=[colorant\"blue\"])"
   ]
  },
  {
   "cell_type": "markdown",
   "metadata": {},
   "source": [
    "Let's look at a graph of the difference between the trapezoidal rule value and the true value:"
   ]
  },
  {
   "cell_type": "code",
   "execution_count": null,
   "metadata": {},
   "outputs": [],
   "source": [
    "yy  = [trapezodial_rule(x -> sin(x)^2,0,pi,n) - pi/2 for n = 10:50];"
   ]
  },
  {
   "cell_type": "code",
   "execution_count": null,
   "metadata": {},
   "outputs": [],
   "source": [
    "plot(x=xx,y=yy,color=[colorant\"blue\"])"
   ]
  },
  {
   "cell_type": "code",
   "execution_count": null,
   "metadata": {},
   "outputs": [],
   "source": [
    "using ForwardDiff"
   ]
  }
 ],
 "metadata": {
  "kernelspec": {
   "display_name": "Julia 1.5.3",
   "language": "julia",
   "name": "julia-1.5"
  },
  "language_info": {
   "file_extension": ".jl",
   "mimetype": "application/julia",
   "name": "julia",
   "version": "1.5.3"
  }
 },
 "nbformat": 4,
 "nbformat_minor": 2
}
