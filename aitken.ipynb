{
 "cells": [
  {
   "cell_type": "markdown",
   "metadata": {},
   "source": [
    "## Aitken extrapolation\n",
    "_MATH 420_ <br>\n",
    "\n",
    "To prepare, read https://en.wikipedia.org/wiki/Aitken%27s_delta-squared_process.\n",
    "\n",
    "Here is a simple function that takes an array f and returns the Aitken extrapolated array. "
   ]
  },
  {
   "cell_type": "code",
   "execution_count": null,
   "metadata": {},
   "outputs": [],
   "source": [
    "function aitken_extrapolation(f::Array)\n",
    "    n = length(f)\n",
    "    [f[k+2] - (f[k+2] - f[k+1])^2/((f[k+2] - f[k+1]) - (f[k+1] - f[k])) for k in 1:n-2]\n",
    "end"
   ]
  },
  {
   "cell_type": "raw",
   "metadata": {},
   "source": [
    "For a sequence that is _exactly_ linearly convergent, the Aitken  extrapolated array should immediately converge to the limit. Let's test on the sequence k -> 3 + 1/2^k.  This sequence converges to 3."
   ]
  },
  {
   "cell_type": "code",
   "execution_count": null,
   "metadata": {
    "scrolled": true
   },
   "outputs": [],
   "source": [
    "X = [3 + 1/2^k for k in 1:10]"
   ]
  },
  {
   "cell_type": "raw",
   "metadata": {},
   "source": [
    "The Aitken extrapolated array is a constant! It works!"
   ]
  },
  {
   "cell_type": "code",
   "execution_count": null,
   "metadata": {},
   "outputs": [],
   "source": [
    "aitken_extrapolation(X)"
   ]
  },
  {
   "cell_type": "markdown",
   "metadata": {},
   "source": [
    "For something that doesn't exactly converge linearly, the Aitken extrapolated array won't usually immediately converge to the limit, but it's convergence should be faster. \n",
    "\n",
    "Let's try the sequence $k -> 3 + 1/2^k + 1/5^k$."
   ]
  },
  {
   "cell_type": "code",
   "execution_count": null,
   "metadata": {},
   "outputs": [],
   "source": [
    "using Gadfly"
   ]
  },
  {
   "cell_type": "code",
   "execution_count": null,
   "metadata": {},
   "outputs": [],
   "source": [
    "Y = [3 + 1/2^k + 1/(5)^k for k in 1:20];"
   ]
  },
  {
   "cell_type": "code",
   "execution_count": null,
   "metadata": {},
   "outputs": [],
   "source": [
    "YY = aitken_extrapolation(Y)"
   ]
  },
  {
   "cell_type": "code",
   "execution_count": null,
   "metadata": {},
   "outputs": [],
   "source": [
    "X = [k for k in 1:length(Y)];"
   ]
  },
  {
   "cell_type": "code",
   "execution_count": null,
   "metadata": {},
   "outputs": [],
   "source": [
    "plot(x=X,y=Y,color=[colorant\"purple\"])"
   ]
  },
  {
   "cell_type": "markdown",
   "metadata": {},
   "source": [
    "Here are both graphs--I'll connect the dots of the extrapolated sequence with line segments and the non-extrapolated will be just dots."
   ]
  },
  {
   "cell_type": "code",
   "execution_count": null,
   "metadata": {},
   "outputs": [],
   "source": [
    "plot(layer(x=X, y=Y, Geom.point,color=[colorant\"green\"] ), layer(x=XX, y=YY, Geom.point,color=[colorant\"purple\"]))"
   ]
  },
  {
   "cell_type": "raw",
   "metadata": {},
   "source": [
    "Super--the extrapolated sequence converges much faster.  "
   ]
  },
  {
   "cell_type": "code",
   "execution_count": null,
   "metadata": {},
   "outputs": [],
   "source": []
  }
 ],
 "metadata": {
  "kernelspec": {
   "display_name": "Julia 1.5.3",
   "language": "julia",
   "name": "julia-1.5"
  },
  "language_info": {
   "file_extension": ".jl",
   "mimetype": "application/julia",
   "name": "julia",
   "version": "1.5.3"
  }
 },
 "nbformat": 4,
 "nbformat_minor": 2
}
