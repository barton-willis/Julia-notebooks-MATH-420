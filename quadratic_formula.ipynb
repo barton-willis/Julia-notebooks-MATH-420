{
 "cells": [
  {
   "cell_type": "markdown",
   "metadata": {},
   "source": [
    "## Quadratic Formula\n",
    "MATH 420 <br>\n",
    "_Spring 2021_ <br>\n",
    "\n",
    "Let's write a Julia function that finds the roots of a quadratic equation; easy-peasy right? Wrong.  \n",
    "\n",
    "We start with the formula that we all know and love: "
   ]
  },
  {
   "cell_type": "code",
   "execution_count": 1,
   "metadata": {},
   "outputs": [
    {
     "data": {
      "text/plain": [
       "solve_quadratic1 (generic function with 1 method)"
      ]
     },
     "execution_count": 1,
     "metadata": {},
     "output_type": "execute_result"
    }
   ],
   "source": [
    "function solve_quadratic1(a,b,c)\n",
    "    d = sqrt(b^2 - 4*a*c)\n",
    "    (-b + d)/(2*a), (-b - d)/(2*a)\n",
    "end   "
   ]
  },
  {
   "cell_type": "markdown",
   "metadata": {},
   "source": [
    "Possibly we should special case $a = 0$ so that we don't divide by zero, but we'll leave that for another day.\n",
    "\n",
    "Let's _manufacture_ coefficients with a known roots; say the solutions are $r_1$  and $1/r_1$, where"
   ]
  },
  {
   "cell_type": "code",
   "execution_count": 13,
   "metadata": {},
   "outputs": [],
   "source": [
    "r1 = 8.0e7;"
   ]
  },
  {
   "cell_type": "code",
   "execution_count": 14,
   "metadata": {},
   "outputs": [],
   "source": [
    "r2 = 1/r1;"
   ]
  },
  {
   "cell_type": "markdown",
   "metadata": {},
   "source": [
    "Expanding $(x - r_1) (x - r_2) = x^2 - (r_1+r_2) x + r_1 r_2$, we see the coefficients are"
   ]
  },
  {
   "cell_type": "code",
   "execution_count": 15,
   "metadata": {},
   "outputs": [
    {
     "data": {
      "text/plain": [
       "(1, -8.000000000000001e7, 1.0)"
      ]
     },
     "execution_count": 15,
     "metadata": {},
     "output_type": "execute_result"
    }
   ],
   "source": [
    "(a,b,c) = (1,-r1-r2,r1*r2)"
   ]
  },
  {
   "cell_type": "markdown",
   "metadata": {},
   "source": [
    "The solutions are"
   ]
  },
  {
   "cell_type": "code",
   "execution_count": 16,
   "metadata": {},
   "outputs": [
    {
     "data": {
      "text/plain": [
       "(8.0e7, 1.4901161193847656e-8)"
      ]
     },
     "execution_count": 16,
     "metadata": {},
     "output_type": "execute_result"
    }
   ],
   "source": [
    "solve_quadratic1(a,b,c)"
   ]
  },
  {
   "cell_type": "markdown",
   "metadata": {},
   "source": [
    "One solution is $1.25 \\times 10^{-8}$, but we get $1.4901161193847656 \\times 10^{-8}$. Oh, that's _terrible_. Using the alternative quadratic formula with the radicals in the denominator, our function is"
   ]
  },
  {
   "cell_type": "code",
   "execution_count": 9,
   "metadata": {},
   "outputs": [
    {
     "data": {
      "text/plain": [
       "solve_quadratic2 (generic function with 1 method)"
      ]
     },
     "execution_count": 9,
     "metadata": {},
     "output_type": "execute_result"
    }
   ],
   "source": [
    "function solve_quadratic2(a,b,c)\n",
    "    d = sqrt(b^2 - 4*a*c)\n",
    "    2*c/(-b - d), 2*c/(-b + d)\n",
    "end   "
   ]
  },
  {
   "cell_type": "markdown",
   "metadata": {},
   "source": [
    "This time we get an accurate value for $1.25 \\times 10^{-8}$, but not for the root $8.0 \\times 10^{7}$. This is very perverse-both methods give _one_ inaccurate result"
   ]
  },
  {
   "cell_type": "code",
   "execution_count": 10,
   "metadata": {},
   "outputs": [
    {
     "data": {
      "text/plain": [
       "(6.7108864e7, 1.25e-8)"
      ]
     },
     "execution_count": 10,
     "metadata": {},
     "output_type": "execute_result"
    }
   ],
   "source": [
    "solve_quadratic2(a,b,c)"
   ]
  },
  {
   "cell_type": "markdown",
   "metadata": {},
   "source": [
    "The problem is with an ill-conditioned sum $-b + d$ or $-b - d$. Since $d$ is positive (it's the output of a square root), the sum\n",
    "$-b + d$ is possibly ill-conditioned when $b > 0$. And when $b < 0$, the sum $-b - d$ is possibly ill-conditioned. \n",
    "\n",
    "To simplify the logic, let's negate all the coefficients when $b < 0$. After that we know that $b$ is positive, so the sum $-b - d$ is well-conditioned. This gives"
   ]
  },
  {
   "cell_type": "code",
   "execution_count": 11,
   "metadata": {},
   "outputs": [
    {
     "data": {
      "text/plain": [
       "solve_quadratic3 (generic function with 1 method)"
      ]
     },
     "execution_count": 11,
     "metadata": {},
     "output_type": "execute_result"
    }
   ],
   "source": [
    "function solve_quadratic3(a,b,c)\n",
    "    if b < 0 (a,b,c) = (-a,-b,-c) end #now b > 0\n",
    "    d = sqrt(b^2 - 4*a*c)\n",
    "    (-b - d)/(2*a), 2*c/(-b-d) # all sums well conditioned\n",
    "end   "
   ]
  },
  {
   "cell_type": "markdown",
   "metadata": {},
   "source": [
    "Now both roots are accurate!"
   ]
  },
  {
   "cell_type": "code",
   "execution_count": 12,
   "metadata": {},
   "outputs": [
    {
     "data": {
      "text/plain": [
       "(8.0e7, 1.25e-8)"
      ]
     },
     "execution_count": 12,
     "metadata": {},
     "output_type": "execute_result"
    }
   ],
   "source": [
    " solve_quadratic3(a,b,c)"
   ]
  },
  {
   "cell_type": "markdown",
   "metadata": {},
   "source": [
    "This is a very famous example of an ill-conditioned sum (aka subtractive cancellation); for references, see, for example\n",
    "\n",
    "1. https://en.wikipedia.org wiki/Quadratic_equation#Avoiding_loss_of_significance. \n",
    "\n",
    "2. http://i.stanford.edu/pub/cstr/reports/cs/tr/66/40/CS-TR-66-40.pdf\n",
    "\n",
    "\n",
    "There are additional problems when $b^2 - 4ac$ is ill-conditioned.\n",
    "\n",
    "What about solving a cubic?  The solutions to $x^3 + b x^2 + c x + d = 0$ are\n",
    "\n",
    "$$\\left[ x=\\left({{-1}\\over{2}}-{{\\sqrt{3}\\,i}\\over{2}}\\right)\\,\n",
    " \\left({{\\sqrt{27\\,d^2+\\left(4\\,b^3-18\\,b\\,c\\right)\\,d+4\\,c^3-b^2\\,c^\n",
    " 2}}\\over{2\\,3^{{{3}\\over{2}}}}}+{{b\\,c-3\\,d}\\over{6}}+{{\\left(-1\n",
    " \\right)\\,b^3}\\over{27}}\\right)^{{{1}\\over{3}}}-{{\\left({{\\sqrt{3}\\,i\n",
    " }\\over{2}}+{{-1}\\over{2}}\\right)\\,\\left({{c}\\over{3}}+{{\\left(-1\n",
    " \\right)\\,b^2}\\over{9}}\\right)}\\over{\\left({{\\sqrt{27\\,d^2+\\left(4\\,b\n",
    " ^3-18\\,b\\,c\\right)\\,d+4\\,c^3-b^2\\,c^2}}\\over{2\\,3^{{{3}\\over{2}}}}}+\n",
    " {{b\\,c-3\\,d}\\over{6}}+{{\\left(-1\\right)\\,b^3}\\over{27}}\\right)^{{{1\n",
    " }\\over{3}}}}}+{{\\left(-1\\right)\\,b}\\over{3}} , x=\\left({{\\sqrt{3}\\,i\n",
    " }\\over{2}}+{{-1}\\over{2}}\\right)\\,\\left({{\\sqrt{27\\,d^2+\\left(4\\,b^3\n",
    " -18\\,b\\,c\\right)\\,d+4\\,c^3-b^2\\,c^2}}\\over{2\\,3^{{{3}\\over{2}}}}}+{{\n",
    " b\\,c-3\\,d}\\over{6}}+{{\\left(-1\\right)\\,b^3}\\over{27}}\\right)^{{{1\n",
    " }\\over{3}}}-{{\\left({{-1}\\over{2}}-{{\\sqrt{3}\\,i}\\over{2}}\\right)\\,\n",
    " \\left({{c}\\over{3}}+{{\\left(-1\\right)\\,b^2}\\over{9}}\\right)}\\over{\n",
    " \\left({{\\sqrt{27\\,d^2+\\left(4\\,b^3-18\\,b\\,c\\right)\\,d+4\\,c^3-b^2\\,c^\n",
    " 2}}\\over{2\\,3^{{{3}\\over{2}}}}}+{{b\\,c-3\\,d}\\over{6}}+{{\\left(-1\n",
    " \\right)\\,b^3}\\over{27}}\\right)^{{{1}\\over{3}}}}}+{{\\left(-1\\right)\\,\n",
    " b}\\over{3}} , x=\\left({{\\sqrt{27\\,d^2+\\left(4\\,b^3-18\\,b\\,c\\right)\\,\n",
    " d+4\\,c^3-b^2\\,c^2}}\\over{2\\,3^{{{3}\\over{2}}}}}+{{b\\,c-3\\,d}\\over{6\n",
    " }}+{{\\left(-1\\right)\\,b^3}\\over{27}}\\right)^{{{1}\\over{3}}}-{{{{c\n",
    " }\\over{3}}+{{\\left(-1\\right)\\,b^2}\\over{9}}}\\over{\\left({{\\sqrt{27\\,\n",
    " d^2+\\left(4\\,b^3-18\\,b\\,c\\right)\\,d+4\\,c^3-b^2\\,c^2}}\\over{2\\,3^{{{3\n",
    " }\\over{2}}}}}+{{b\\,c-3\\,d}\\over{6}}+{{\\left(-1\\right)\\,b^3}\\over{27\n",
    " }}\\right)^{{{1}\\over{3}}}}}+{{\\left(-1\\right)\\,b}\\over{3}} \\right] \n",
    " $$\n",
    " \n",
    "I doubt that anybody has ever figured out how to alter these solutions to make them safe for numerical evalution. If you need to solve a cubic equation numerically, the exact representations for the solutions is a _terrible_ option.\n"
   ]
  },
  {
   "cell_type": "raw",
   "metadata": {},
   "source": []
  },
  {
   "cell_type": "code",
   "execution_count": null,
   "metadata": {},
   "outputs": [],
   "source": []
  }
 ],
 "metadata": {
  "kernelspec": {
   "display_name": "Julia 1.5.3",
   "language": "julia",
   "name": "julia-1.5"
  },
  "language_info": {
   "file_extension": ".jl",
   "mimetype": "application/julia",
   "name": "julia",
   "version": "1.5.3"
  }
 },
 "nbformat": 4,
 "nbformat_minor": 2
}
