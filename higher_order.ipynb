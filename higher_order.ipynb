{
 "cells": [
  {
   "cell_type": "raw",
   "metadata": {},
   "source": [
    "## Methods for higher order DEs\n",
    "__MATH 420__ <br>\n",
    "_Spring 2021_ <br>\n",
    "\n",
    "\n",
    "Let's try the Euler method on the second order DE\n",
    "$$\n",
    "   \\frac{\\mathrm{d}^2 x}{\\mathrm{d} t^2} =  -x.\n",
    "$$\n",
    "Oops! We know how to handle a system of _first_ order DEs, but a second order DE is new territory. Let's attempt to convert this DE to a system of first order DES. To do that define $\\frac{\\mathrm{d} x}{\\mathrm{d} t} = y$. Then we have\n",
    "$$\n",
    "   \\frac{\\mathrm{d} x}{\\mathrm{d} t} =  y, \\quad \\frac{\\mathrm{d} y}{\\mathrm{d} t} =  -x.\n",
    "$$\n",
    "Using the left-point rule to integrate gives the method\n",
    "$$\n",
    "  x_{k+1} = x_k + h  y_k, \\quad   y_{k+1} = y_k - h  x_k.\n",
    "$$\n",
    "Since we used the left point rule to integrate both differential equations, we'll call this the `left_euler_left_euler` method.\n",
    "\n",
    "Here is Julia code that is specific for this system."
   ]
  },
  {
   "cell_type": "code",
   "execution_count": null,
   "metadata": {},
   "outputs": [],
   "source": [
    "function left_euler_left_euler(t0::Number, x0::Number, y0::Number, tf::Number, N::Integer)\n",
    "    # t0 = initial time\n",
    "    # tf = final time\n",
    "    # x0 = initial value of x\n",
    "    # y0 = initial value of y\n",
    "    # N = number of time steps\n",
    "    xa = zeros(typeof(t0),N+1) #declare N+1 member arrays for the solution\n",
    "    ya = zeros(typeof(t0),N+1)\n",
    "    ta = zeros(typeof(t0),N+1)\n",
    "    h = (tf - t0)/N\n",
    "    xa[1] = x0\n",
    "    ya[1] = y0\n",
    "    ta[1] = t0\n",
    "    for k = 1:N\n",
    "      xa[k+1] = xa[k] + h * ya[k]\n",
    "      ya[k+1] = ya[k] - h * xa[k]\n",
    "      ta[k+1] = t0 + h*k  \n",
    "    end\n",
    "    ta, xa, ya\n",
    "end"
   ]
  },
  {
   "cell_type": "markdown",
   "metadata": {},
   "source": [
    "Let's try solving on the interval $[0, 100]$ using $10^5$ steps. The initial conditions are\n",
    "$x(0) = 1$ and $y(0)=0.$  The true solution is \n",
    "$$\n",
    "   x(t) = \\cos(t), \\quad y(t) = \\sin(t).\n",
    "$$"
   ]
  },
  {
   "cell_type": "code",
   "execution_count": null,
   "metadata": {},
   "outputs": [],
   "source": [
    "N = 10^5;"
   ]
  },
  {
   "cell_type": "code",
   "execution_count": null,
   "metadata": {},
   "outputs": [],
   "source": [
    "t0 = 0.0;"
   ]
  },
  {
   "cell_type": "code",
   "execution_count": null,
   "metadata": {},
   "outputs": [],
   "source": [
    "tf = 100.0;"
   ]
  },
  {
   "cell_type": "code",
   "execution_count": null,
   "metadata": {},
   "outputs": [],
   "source": [
    "x0 = 1.0;"
   ]
  },
  {
   "cell_type": "code",
   "execution_count": null,
   "metadata": {},
   "outputs": [],
   "source": [
    "y0 = 0.0;"
   ]
  },
  {
   "cell_type": "code",
   "execution_count": null,
   "metadata": {},
   "outputs": [],
   "source": [
    "Ta, Xa, Ya = left_euler_left_euler(t0, x0, y0, tf, N);"
   ]
  },
  {
   "cell_type": "code",
   "execution_count": null,
   "metadata": {},
   "outputs": [],
   "source": [
    "using Gadfly"
   ]
  },
  {
   "cell_type": "code",
   "execution_count": null,
   "metadata": {},
   "outputs": [],
   "source": [
    "plot(layer(x=Ta, y=Xa, Geom.line, color=[colorant\"purple\"]), \n",
    "     layer(x -> cos(x),t0, tf, Geom.line, color=[colorant\"black\"]))"
   ]
  },
  {
   "cell_type": "markdown",
   "metadata": {},
   "source": [
    "The graph matches the true solution. Should we claim success? Let's try solving on interval $[0,10^3]$ and increase $N$ to $10^6$. Thus we keep the same step size."
   ]
  },
  {
   "cell_type": "code",
   "execution_count": null,
   "metadata": {},
   "outputs": [],
   "source": [
    "N = 10^6;"
   ]
  },
  {
   "cell_type": "code",
   "execution_count": null,
   "metadata": {},
   "outputs": [],
   "source": [
    "tf = 1000.0;"
   ]
  },
  {
   "cell_type": "code",
   "execution_count": null,
   "metadata": {},
   "outputs": [],
   "source": [
    "Ta, Xa, Ya = left_euler_left_euler(t0, x0, y0, tf, N);"
   ]
  },
  {
   "cell_type": "markdown",
   "metadata": {},
   "source": [
    "The graph is a bit of a mess, but it looks unpromising:"
   ]
  },
  {
   "cell_type": "code",
   "execution_count": null,
   "metadata": {},
   "outputs": [],
   "source": [
    "plot(layer(x=Ta, y=Xa, Geom.line, color=[colorant\"purple\"]), \n",
    "     layer(x -> cos(x),t0, tf, Geom.line, color=[colorant\"black\"]))"
   ]
  },
  {
   "cell_type": "markdown",
   "metadata": {},
   "source": [
    "Looking at the solution from $8 \\times 10^5$ to $10^6$ steps shows that the amplitude has grown to over $1.5$. This is bad!"
   ]
  },
  {
   "cell_type": "code",
   "execution_count": null,
   "metadata": {
    "scrolled": true
   },
   "outputs": [],
   "source": [
    "plot(layer(x=Ta[8*10^5:10^6], y=Xa[8*10^5:10^6], Geom.line, color=[colorant\"purple\"]))     "
   ]
  },
  {
   "cell_type": "markdown",
   "metadata": {},
   "source": [
    "Using the right-point rule to integrate gives the method\n",
    "$$\n",
    "  x_{k+1} = x_k + h  y_{k+1}, \\quad   y_{k+1} = y_k - h  x_{k+1}.\n",
    "$$\n",
    "Although this method is  implicit, we can solve for $x_{k+1}$ and $y_{k+1}$ This gives\n",
    "$$\n",
    "   x_{k+1} = \\frac{x_k + h y_k}{1+h^2}, \\quad y_{k+1} = \\frac{y_k - h x_k}{1+h^2}.\n",
    "$$"
   ]
  },
  {
   "cell_type": "code",
   "execution_count": null,
   "metadata": {},
   "outputs": [],
   "source": [
    "function right_euler_right_euler(t0::Number, x0::Number, y0::Number, t1::Number, N::Integer)\n",
    "    xa = zeros(typeof(t0),N+1)\n",
    "    ya = zeros(typeof(t0),N+1)\n",
    "    ta = zeros(typeof(t0),N+1)\n",
    "    h = (t1 - t0)/N\n",
    "    xa[1] = x0\n",
    "    ya[1] = y0\n",
    "    ta[1] = t0\n",
    "    for k = 1:N\n",
    "      xa[k+1] = (xa[k] + h*ya[k])/(1+h^2)\n",
    "      ya[k+1] = (ya[k] - h*xa[k])/(1+h^2)\n",
    "      ta[k+1] = t0 + h*k  \n",
    "    end\n",
    "    ta, xa, ya\n",
    "end"
   ]
  },
  {
   "cell_type": "code",
   "execution_count": null,
   "metadata": {},
   "outputs": [],
   "source": [
    "Ta, Xa, Ya = right_euler_right_euler(t0, x0, y0, tf, N);"
   ]
  },
  {
   "cell_type": "markdown",
   "metadata": {},
   "source": [
    "He-he! Before, the amplitude grew, now it shrinks!"
   ]
  },
  {
   "cell_type": "code",
   "execution_count": null,
   "metadata": {},
   "outputs": [],
   "source": [
    "plot(layer(x=Ta[8*10^5:10^6], y=Xa[8*10^5:10^6], Geom.line, color=[colorant\"purple\"])) "
   ]
  },
  {
   "cell_type": "raw",
   "metadata": {},
   "source": [
    "What's a compromise? Let's integrate one equation using the left point rule the other with the right point rule. This gives\n",
    "$$\n",
    "  x_{k+1} = x_k + h y_k,  \\quad y_{k+1} = y_k - h x_{k+1}\n",
    "$$\n",
    "We could solve this for $x_{k+1}$ and $y_{k+1}$, but we don't have to. Provided we update the array `xa` before the array `ya` it works fine:"
   ]
  },
  {
   "cell_type": "code",
   "execution_count": null,
   "metadata": {},
   "outputs": [],
   "source": [
    "function left_euler_right_euler(t0::Number, x0::Number, y0::Number, tf::Number, N::Integer)\n",
    "    xa = zeros(typeof(t0),N+1)\n",
    "    ya = zeros(typeof(t0),N+1)\n",
    "    ta = zeros(typeof(t0),N+1)\n",
    "    h = (tf - t0)/N\n",
    "    xa[1] = x0\n",
    "    ya[1] = y0\n",
    "    ta[1] = t0\n",
    "    for k = 1:N\n",
    "      xa[k+1] = xa[k] + h*ya[k]\n",
    "      ya[k+1] = ya[k] - h*xa[k+1]\n",
    "      ta[k+1] = t0 + h*k \n",
    "    end\n",
    "    ta, xa, ya\n",
    "end"
   ]
  },
  {
   "cell_type": "code",
   "execution_count": null,
   "metadata": {},
   "outputs": [],
   "source": [
    "Ta, Xa, Ya = left_euler_right_euler(t0, x0, y0, tf, N);"
   ]
  },
  {
   "cell_type": "markdown",
   "metadata": {},
   "source": [
    "Success! The amplitude remains at one! "
   ]
  },
  {
   "cell_type": "code",
   "execution_count": null,
   "metadata": {},
   "outputs": [],
   "source": [
    "plot(layer(x=Ta[8*10^5:10^6], y=Xa[8*10^5:10^6], Geom.line, color=[colorant\"purple\"]))     "
   ]
  },
  {
   "cell_type": "raw",
   "metadata": {},
   "source": [
    "Let's generalize a bit--consider the second order DE\n",
    "$$\n",
    "   \\frac{\\mathrm{d}^2 x}{\\mathrm{d} t^2} =  Q(x),\n",
    "$$\n",
    "where $Q$ is a given function. As before, define $\\frac{\\mathrm{d} x}{\\mathrm{d} t} = y$. Then we have\n",
    "$$\n",
    "   \\frac{\\mathrm{d} x}{\\mathrm{d} t} =  y, \\quad \\frac{\\mathrm{d} y}{\\mathrm{d} t} =  Q(x).\n",
    "$$\n",
    "\n",
    "Again, let's integrate one equation using the left point rule the other with the right point rule. This gives\n",
    "$$\n",
    "  x_{k+1} = x_k + h y_k,  \\quad y_{k+1} = y_k + h Q(x_{k+1})\n",
    "$$\n",
    "As before, we could solve this for $x_{k+1}$ and $y_{k+1}$, but we don't have to. Provided we update the array `xa` before the array `ya` it works fine:"
   ]
  },
  {
   "cell_type": "code",
   "execution_count": null,
   "metadata": {},
   "outputs": [],
   "source": [
    "function left_euler_right_euler(Q::Function, t0::Number, x0::Number, y0::Number, tf::Number, N::Integer)\n",
    "    xa = zeros(typeof(t0),N+1)\n",
    "    ya = zeros(typeof(t0),N+1)\n",
    "    ta = zeros(typeof(t0),N+1)\n",
    "    h = (tf - t0)/N\n",
    "    xa[1] = x0\n",
    "    ya[1] = y0\n",
    "    ta[1] = t0\n",
    "    for k = 1:N\n",
    "      xa[k+1] = xa[k] + h*ya[k]\n",
    "      ya[k+1] = ya[k] + h*Q(xa[k+1])\n",
    "      ta[k+1] = t0 + h*k \n",
    "    end\n",
    "    ta, xa, ya\n",
    "end"
   ]
  },
  {
   "cell_type": "markdown",
   "metadata": {},
   "source": [
    "Let's try this on the DE\n",
    "$$\n",
    "   \\frac{\\mathrm{d}^2 x}{\\mathrm{d} t^2} =  -x^3\n",
    "$$\n",
    "We'll use the initial conditions\n",
    "$$\n",
    "  x(0) = 0, \\quad x'(0) = 1\n",
    "$$\n",
    "A little known fact is that the solution of this IVP has a solution in terms of the Jacobi elliptic function $sn$. It is\n",
    "$$\n",
    "   x(t) = 2^{1/4} \\mathrm{sn}(t / 2^{1/4}, -1).\n",
    "$$"
   ]
  },
  {
   "cell_type": "code",
   "execution_count": null,
   "metadata": {},
   "outputs": [],
   "source": [
    "t0  = 0.0"
   ]
  },
  {
   "cell_type": "code",
   "execution_count": null,
   "metadata": {},
   "outputs": [],
   "source": [
    "x0 = 0.0"
   ]
  },
  {
   "cell_type": "code",
   "execution_count": null,
   "metadata": {},
   "outputs": [],
   "source": [
    "y0 = 1.0"
   ]
  },
  {
   "cell_type": "code",
   "execution_count": null,
   "metadata": {},
   "outputs": [],
   "source": [
    "tf = 25.0"
   ]
  },
  {
   "cell_type": "code",
   "execution_count": null,
   "metadata": {},
   "outputs": [],
   "source": [
    "Q = x -> -x^3"
   ]
  },
  {
   "cell_type": "code",
   "execution_count": null,
   "metadata": {},
   "outputs": [],
   "source": [
    "N = 10^6"
   ]
  },
  {
   "cell_type": "code",
   "execution_count": null,
   "metadata": {},
   "outputs": [],
   "source": [
    "using Pkg"
   ]
  },
  {
   "cell_type": "code",
   "execution_count": null,
   "metadata": {},
   "outputs": [],
   "source": [
    "Pkg.add(\"Elliptic\")"
   ]
  },
  {
   "cell_type": "code",
   "execution_count": null,
   "metadata": {},
   "outputs": [],
   "source": [
    "using Elliptic"
   ]
  },
  {
   "cell_type": "code",
   "execution_count": null,
   "metadata": {},
   "outputs": [],
   "source": [
    "Ta, Xa, Ya = left_euler_right_euler(Q, t0, x0, y0, tf, N);"
   ]
  },
  {
   "cell_type": "code",
   "execution_count": null,
   "metadata": {},
   "outputs": [],
   "source": [
    "plot(layer(x=Ta, y=Xa, Geom.line, color=[colorant\"purple\"]), \n",
    "     layer(x -> 2.0^(1/4) * Jacobi.sn(x/2.0^(1/4),-1),t0, tf, Geom.line, color=[colorant\"black\"]))"
   ]
  },
  {
   "cell_type": "code",
   "execution_count": null,
   "metadata": {},
   "outputs": [],
   "source": [
    "Q = x -> 6*x^3 - x^5"
   ]
  },
  {
   "cell_type": "code",
   "execution_count": null,
   "metadata": {},
   "outputs": [],
   "source": [
    "Ta, Xa, Ya = left_euler_right_euler(Q, t0, x0, y0, tf, N);"
   ]
  },
  {
   "cell_type": "code",
   "execution_count": null,
   "metadata": {},
   "outputs": [],
   "source": [
    "plot(x=Ta, y=Xa, Geom.line, color=[colorant\"purple\"])\n",
    "     "
   ]
  },
  {
   "cell_type": "code",
   "execution_count": null,
   "metadata": {},
   "outputs": [],
   "source": []
  },
  {
   "cell_type": "code",
   "execution_count": null,
   "metadata": {},
   "outputs": [],
   "source": []
  }
 ],
 "metadata": {
  "kernelspec": {
   "display_name": "Julia 1.5.3",
   "language": "julia",
   "name": "julia-1.5"
  },
  "language_info": {
   "file_extension": ".jl",
   "mimetype": "application/julia",
   "name": "julia",
   "version": "1.5.3"
  }
 },
 "nbformat": 4,
 "nbformat_minor": 5
}
