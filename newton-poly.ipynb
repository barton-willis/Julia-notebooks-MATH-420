{
 "cells": [
  {
   "cell_type": "markdown",
   "metadata": {},
   "source": [
    "## Newton polynomial interpolation\n",
    "\n",
    "__MATH 240__ <br>\n",
    "_spring 2021_ <br>\n",
    "\n",
    "To start,  let's  build a function that evaluates a linear combination of Newton polynomials. The linear combination is\n",
    "$$\n",
    "    x \\mapsto c_1 + c_2 (x - x_1) + c_3 (x-x_1)(x-x_2) +  c_4  (x-x_1)(x-x_2) (x-x_3) + \\cdots\n",
    "$$\n",
    "The inputs will be the polynomial variable $x$, an array of coefficients $c$, and an array of the knots $x$. Our function uses a Horner-like scheme. Accordingly, we loop through the coefficients from high to low. The Julia way to loop backwards is to use `k = n:-1:1`\n",
    "\n",
    "When the number of coefficients doesn't match the number of knots, let's issue an error."
   ]
  },
  {
   "cell_type": "code",
   "execution_count": null,
   "metadata": {},
   "outputs": [],
   "source": [
    "function newton_interpolation(x::Number,c::Array,knots::Array) \n",
    "   n = length(c)\n",
    "   n == length(knots) || error(\"Oops\")\n",
    "   s = zero(x) #initialize accumulator to zero\n",
    "   for k = n:-1:1\n",
    "      s = c[k] + s*(x - knots[k])\n",
    "    end\n",
    "    s \n",
    "end"
   ]
  },
  {
   "cell_type": "code",
   "execution_count": null,
   "metadata": {},
   "outputs": [],
   "source": [
    "using Gadfly"
   ]
  },
  {
   "cell_type": "markdown",
   "metadata": {},
   "source": [
    "Let's test this; say our polynomial is"
   ]
  },
  {
   "cell_type": "code",
   "execution_count": null,
   "metadata": {},
   "outputs": [],
   "source": [
    "P = x -> 46 + 107*(x-1) + 28 * (x-1)*(x-2)"
   ]
  },
  {
   "cell_type": "markdown",
   "metadata": {},
   "source": [
    "The function $Q$ should exactly match the function $P$"
   ]
  },
  {
   "cell_type": "code",
   "execution_count": null,
   "metadata": {},
   "outputs": [],
   "source": [
    "Q  = x -> newton_interpolation(x, [46.0,107.0,28.0],[1.0,2.0,3.0])"
   ]
  },
  {
   "cell_type": "code",
   "execution_count": null,
   "metadata": {},
   "outputs": [],
   "source": [
    "D = x -> P(x) - Q(x)"
   ]
  },
  {
   "cell_type": "code",
   "execution_count": null,
   "metadata": {},
   "outputs": [],
   "source": [
    "plot([P,Q],-20,20)"
   ]
  },
  {
   "cell_type": "code",
   "execution_count": null,
   "metadata": {
    "scrolled": true
   },
   "outputs": [],
   "source": [
    "plot(D,-20,20)"
   ]
  },
  {
   "cell_type": "markdown",
   "metadata": {},
   "source": [
    "Here is a somewhat tricky function that finds the diagonal entries of the Newton divided difference table for a function $f$ with an array of knots $x$"
   ]
  },
  {
   "cell_type": "code",
   "execution_count": null,
   "metadata": {},
   "outputs": [],
   "source": [
    "function newton_divided_diff(f::Function, x::Array)\n",
    "    n = length(x)\n",
    "    c = map(f,x)   \n",
    "    for j in 2:n\n",
    "         for i in n: -1 : j\n",
    "            c[i]=(c[i]-c[i-1])/(x[i]-x[i-(j-1)])\n",
    "        end\n",
    "    end\n",
    "    c\n",
    "end"
   ]
  },
  {
   "cell_type": "raw",
   "metadata": {},
   "source": [
    "Should we trust this for a self-driving car, or should we test it first?  Let's test it first.  For the polynomial\n",
    "$$\n",
    "   x -> 46 + 107(x-1) + 28 (x-1)(x-2)\n",
    "$$\n",
    "the diagonal terms of the Newton divided difference table is $[46, 107, 28]$. Let's test"
   ]
  },
  {
   "cell_type": "code",
   "execution_count": null,
   "metadata": {},
   "outputs": [],
   "source": [
    "newton_divided_diff(x -> 46 + 107(x-1) + 28 * (x-1)*(x-2), [1.0, 2.0,3.0])"
   ]
  },
  {
   "cell_type": "markdown",
   "metadata": {},
   "source": [
    "Yes, it's true--the value of the last knot doesn't matter:"
   ]
  },
  {
   "cell_type": "code",
   "execution_count": null,
   "metadata": {},
   "outputs": [],
   "source": [
    "newton_divided_diff(x -> 46 + 107*(x-1) + 28 * (x-1)*(x-2), [1.0, 2.0,1932.0])"
   ]
  },
  {
   "cell_type": "markdown",
   "metadata": {},
   "source": [
    "Let's interpolate the sine function; we'll use six equally spaced knots in the interval $[-\\pi, \\pi]$"
   ]
  },
  {
   "cell_type": "code",
   "execution_count": null,
   "metadata": {},
   "outputs": [],
   "source": [
    "N = 5"
   ]
  },
  {
   "cell_type": "code",
   "execution_count": null,
   "metadata": {},
   "outputs": [],
   "source": [
    "knots = [-pi + 2*pi*k/N for k in 0:N]"
   ]
  },
  {
   "cell_type": "code",
   "execution_count": null,
   "metadata": {},
   "outputs": [],
   "source": [
    "c = newton_divided_diff(x -> sin(x), knots)"
   ]
  },
  {
   "cell_type": "code",
   "execution_count": null,
   "metadata": {},
   "outputs": [],
   "source": [
    "plot([x -> newton_interpolation(x,c,knots), x -> sin(x)], -pi,pi)"
   ]
  },
  {
   "cell_type": "code",
   "execution_count": null,
   "metadata": {
    "scrolled": false
   },
   "outputs": [],
   "source": [
    "plot([x -> newton_interpolation(x,c,knots) - sin(x)], -pi,pi)"
   ]
  },
  {
   "cell_type": "markdown",
   "metadata": {},
   "source": [
    "Let's try something wild and crazy. We'll interpolate the factorial function.  Actually, let's try the reciprocal of the factorial function. We must use knots that are integers"
   ]
  },
  {
   "cell_type": "code",
   "execution_count": null,
   "metadata": {},
   "outputs": [],
   "source": [
    "knots = [k for k in 0 : 20];"
   ]
  },
  {
   "cell_type": "code",
   "execution_count": null,
   "metadata": {},
   "outputs": [],
   "source": [
    "function myfac(x)\n",
    "    convert(Float64, 1/factorial(x))\n",
    "end"
   ]
  },
  {
   "cell_type": "markdown",
   "metadata": {},
   "source": [
    "Pretty cool--the Newton polynomial coefficients appear to diminish toward zero."
   ]
  },
  {
   "cell_type": "code",
   "execution_count": null,
   "metadata": {},
   "outputs": [],
   "source": [
    "c = newton_divided_diff(myfac, knots)"
   ]
  },
  {
   "cell_type": "code",
   "execution_count": null,
   "metadata": {},
   "outputs": [],
   "source": [
    "PP = x -> newton_interpolation(x,c,knots) "
   ]
  },
  {
   "cell_type": "code",
   "execution_count": null,
   "metadata": {},
   "outputs": [],
   "source": [
    "plot(PP,0,20)"
   ]
  },
  {
   "cell_type": "markdown",
   "metadata": {},
   "source": [
    "The gamma function interpolates the factorial function, effectively extending the factorial function to the real line. Actually, for $k \\in \\mathbf{Z}_{> -1}$, we have\n",
    "$$\n",
    "  \\Gamma(k) = (k-1)!\n",
    "$$\n",
    "Julia's gamma function is in a package `SpecialFunctions`"
   ]
  },
  {
   "cell_type": "code",
   "execution_count": null,
   "metadata": {},
   "outputs": [],
   "source": [
    "using Pkg"
   ]
  },
  {
   "cell_type": "code",
   "execution_count": null,
   "metadata": {},
   "outputs": [],
   "source": [
    "Pkg.add(\"SpecialFunctions\")"
   ]
  },
  {
   "cell_type": "code",
   "execution_count": null,
   "metadata": {},
   "outputs": [],
   "source": [
    "using SpecialFunctions"
   ]
  },
  {
   "cell_type": "code",
   "execution_count": null,
   "metadata": {},
   "outputs": [],
   "source": [
    "plot([PP, x -> 1/gamma(x+1)],0,20)"
   ]
  },
  {
   "cell_type": "code",
   "execution_count": null,
   "metadata": {},
   "outputs": [],
   "source": [
    "D = x -> PP(x) - 1/gamma(x+1)"
   ]
  },
  {
   "cell_type": "code",
   "execution_count": null,
   "metadata": {},
   "outputs": [],
   "source": [
    "plot(D,0,20)"
   ]
  },
  {
   "cell_type": "code",
   "execution_count": null,
   "metadata": {},
   "outputs": [],
   "source": []
  }
 ],
 "metadata": {
  "kernelspec": {
   "display_name": "Julia 1.5.3",
   "language": "julia",
   "name": "julia-1.5"
  },
  "language_info": {
   "file_extension": ".jl",
   "mimetype": "application/julia",
   "name": "julia",
   "version": "1.5.3"
  }
 },
 "nbformat": 4,
 "nbformat_minor": 2
}
