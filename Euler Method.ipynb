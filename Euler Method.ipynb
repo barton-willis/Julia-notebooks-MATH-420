{
 "cells": [
  {
   "cell_type": "markdown",
   "metadata": {},
   "source": [
    "# Euler Method\n",
    "\n",
    "__MATH 420__ <br>\n",
    "_Spring 2021_ <br>\n",
    "\n",
    "To solve the differential equation (DE) given as $\\frac{\\mathrm{d} y}{\\mathrm{d} t} = F(t,y)$, we integrate this equation with respect to $t$ from $t_0$ to $t_1$. Since we are mathematicians, what we do to the right, we do to the left (side of the equation); thus\n",
    "\\begin{equation}\n",
    "     \\int_{t_0}^{t_1} \\frac{\\mathrm{d} y}{ \\mathrm{d} t} \\,\\mathrm{d} t  = \n",
    "     \\int_{t_0}^{t_1} F(t,y) \\, \\mathrm{d} t.\n",
    "\\end{equation} \n",
    "But we have to be aware that in the integrand on the right side that $y$ actually depends on $t$.  So maybe we should write the dependence of $y$ on $t$ explicitly. Thus\n",
    "\\begin{equation}\n",
    "     \\int_{t_0}^{t_1} \\frac{\\mathrm{d} y}{ \\mathrm{d} t} \\mathrm{d} t  = \n",
    "     \\int_{t_0}^{t_1} F(t,y(t))\\mathrm{d} t.\n",
    "\\end{equation} \n",
    "The left side is the integral of a derivative, so the fundamental theorem of calculus gives\n",
    "\\begin{equation}\n",
    "     y(t_1) - y(t_0)  = \\int_{t_0}^{t_1} F(t,y(t))\\mathrm{d} t.\n",
    "\\end{equation} \n",
    "This result is exact--we haven't yet made an approximation. Our approximation is to replace the integral on the right side with a left point rule integation. Thus\n",
    "\\begin{equation}\n",
    "     y(t_1) - y(t_0)  \\approx (t_1 - t_0) F(t_0,y_0).\n",
    "\\end{equation} \n",
    "Remember that the left point rule is width times value of the integrand at the lower limit of integration.  Solving for $y(t_1)$ yields\n",
    "\\begin{equation}\n",
    "     y(t_1) \\approx  y(t_0) + (t_1 - t_0) F(t_0,y_0).\n",
    "\\end{equation} \n",
    "If $t_0$ and $y(t_0)$ are known, this result allows us to find an approximate value of $y(t_1)$.  And of course once we know the approximate value of $y(t_1)$, we can find the approximate value of $y(t_2)$ using\n",
    "\\begin{equation}\n",
    "     y(t_2) \\approx  y(t_1) + (t_2 - t_1) F(t_1, y(t_1)).\n",
    "\\end{equation}\n",
    "Continuing like this, we have\n",
    "\\begin{equation}\n",
    "     y(t_{k+1}) \\approx  y(t_k) + (t_{k+1} - t_k) F(t_k,y_k).\n",
    "\\end{equation}\n",
    "Usually, we choose $t_{k+1} - t_k$ to be a constant, say $h$.  This gives\n",
    "\\begin{align}\n",
    "     y(t_{k+1}) &\\approx  y(t_k) +  h F(t_k,y(t_k)), \\\\\n",
    "              t_{k+1} &= h + t_k.\n",
    "\\end{align}\n",
    "Finally, we usually define $y(t_k) = y_k$.  Doing so gives\n",
    "\\begin{align}\n",
    "     y_{k+1}  &\\approx  y_k  +  h F(t_k,y_k), \\\\\n",
    "              t_{k+1} &= h + t_k.\n",
    "\\end{align}\n",
    "This is the famous _Euler method._ \n",
    "\n",
    "In the movie _Hidden Figures,_  Katherine Johnston suggested using the Euler Method--I think that this is method she is referring to.  And I think this part of the movie is historically accurate. If you have not yet seen the movie, it's wonderful. I've seen it three times and would enjoy seeing it a fourth.\n",
    "\n",
    "The  Julia function `zeros` declares an array of a given type and fills it with zero."
   ]
  },
  {
   "cell_type": "code",
   "execution_count": null,
   "metadata": {},
   "outputs": [],
   "source": [
    "function euler_method(f::Function, t0::Number, y0::Number, t1::Number, N::Integer)\n",
    "    ya = zeros(typeof(t0),N+1) # declare ya to be a N+1 member array with type typeof(t0)\n",
    "    ta =  zeros(typeof(t0),N+1)\n",
    "    h = (t1 - t0)/N #step size\n",
    "    ta[1] = t0\n",
    "    ya[1] = y0\n",
    "    for j = 2:N+1 \n",
    "        y0 += h*f(t0,y0)\n",
    "        t0 += h \n",
    "        ya[j] = y0    \n",
    "        ta[j] = t0\n",
    "    end\n",
    "    ta, ya\n",
    "end    "
   ]
  },
  {
   "cell_type": "markdown",
   "metadata": {},
   "source": [
    "The first argument to `euler_method` is a function of two variables. Let's give our code an easy test; our DE is\n",
    "$$\n",
    "   \\frac{\\mathrm{d} y}{ \\mathrm{d} t}  = 1, \\quad y = 1.5 \\mbox{  when } t = 0\n",
    "$$\n",
    "We'll solve this DE (actually it's an initial value problem (IVP) because we have given one point on the solution curve) on the interval $[0,2]$ using 10 steps.  The solution to the IVP is\n",
    "$$\n",
    "    y(t) = \\frac{3}{2} + t.\n",
    "$$"
   ]
  },
  {
   "cell_type": "code",
   "execution_count": null,
   "metadata": {},
   "outputs": [],
   "source": [
    "X, Y = euler_method((t,y) -> 1, 0.0, 1.5, 2.0, 10);"
   ]
  },
  {
   "cell_type": "markdown",
   "metadata": {},
   "source": [
    "Let's look at this graphically.  We can also graph the exact solution by mapping $t \\mapsto 1.5 + t$ on to the array X. Finally using Gadfly's layer function, we can plot both graphs and use a points for the approximate solution and a curve for the exact solution."
   ]
  },
  {
   "cell_type": "code",
   "execution_count": null,
   "metadata": {},
   "outputs": [],
   "source": [
    "using Gadfly"
   ]
  },
  {
   "cell_type": "code",
   "execution_count": null,
   "metadata": {},
   "outputs": [],
   "source": [
    "YY =  map(t -> 1.5+t,X);"
   ]
  },
  {
   "cell_type": "code",
   "execution_count": null,
   "metadata": {},
   "outputs": [],
   "source": [
    "plot(layer(x=X, y=Y,color=[colorant\"black\"]), layer(x = X, y=map(t -> 1.5+t,X), Geom.line,color=[colorant\"darkorchid1\"]))"
   ]
  },
  {
   "cell_type": "markdown",
   "metadata": {},
   "source": [
    "For this DE, the Euler method appears to be exact.  This isn't a huge surprise--the DE is $\\frac{\\mathrm{d} y}{\\mathrm{d} t} = 1 $. Using the the left point rule to integrate the DE we have\n",
    "$$\n",
    "   \\int_{t_k}^{t_{k+1}} \\frac{\\mathrm{d} y}{\\mathrm{d} t} =  \\int_{t_k}^{t_{k+1}}  \\mathrm{d} t.  \n",
    "$$\n",
    "But we know that the right point rule is exact for a constant function.  That makes the Euler method exact for this IVP.\n",
    "\n",
    "Let's try the IVP\n",
    "\\begin{equation}\n",
    "     \\frac{\\mathrm{d} y}{ \\mathrm{d} t}  = \\sqrt{1 - y^2}, \\quad y=0 \\mbox{  when } t =0.\n",
    "    \\end{equation} \n",
    "The exact solution on the interval for $t \\in [-\\pi/2, \\pi/2]$ is $y = \\sin(t)$. But using a final time of $\\pi/2$ gives a domain error for the square root.  "
   ]
  },
  {
   "cell_type": "code",
   "execution_count": null,
   "metadata": {},
   "outputs": [],
   "source": [
    "X, Y = new_euler((t,y) -> sqrt(1-y^2), 0.0, 0.0, pi/2, 8)"
   ]
  },
  {
   "cell_type": "markdown",
   "metadata": {},
   "source": [
    "Backing down to a final time of  $0.9 \\pi/2$ we get a solution."
   ]
  },
  {
   "cell_type": "code",
   "execution_count": null,
   "metadata": {},
   "outputs": [],
   "source": [
    "X, Y = euler_method((t,y) -> sqrt(1-y^2), 0.0, 0.0, 0.92 * pi/2, 12);"
   ]
  },
  {
   "cell_type": "code",
   "execution_count": null,
   "metadata": {},
   "outputs": [],
   "source": [
    "plot(layer(x=X, y=Y,color=[colorant\"black\"]), layer(x = X, y=map(t -> sin(t),X), Geom.line,color=[colorant\"darkorchid1\"]))"
   ]
  },
  {
   "cell_type": "markdown",
   "metadata": {},
   "source": [
    "Unlike our first example, this method isn't exact. Let's try the Euler method on the IVP\n",
    "\\begin{equation}\n",
    "     \\frac{\\mathrm{d} y}{ \\mathrm{d} t}  = y, \\quad y=1 \\mbox{  when } t =0.   \n",
    "\\end{equation} \n",
    "The exact solution is $y = \\mathrm{e}^t$.  Let's try solving on the interval $[0,10]$ using 25 steps. Looks like the solution doesn't grow quite fast enough."
   ]
  },
  {
   "cell_type": "code",
   "execution_count": null,
   "metadata": {},
   "outputs": [],
   "source": [
    "X, Y = new_euler((t,y) -> y, 0.0, 1.0, 10, 25);"
   ]
  },
  {
   "cell_type": "code",
   "execution_count": null,
   "metadata": {},
   "outputs": [],
   "source": [
    "plot(layer(x=X, y=Y,color=[colorant\"black\"]), layer(x = X, y=map(t -> exp(t),X), Geom.line,color=[colorant\"darkorchid1\"]))"
   ]
  },
  {
   "cell_type": "markdown",
   "metadata": {},
   "source": [
    "Increasing the number of steps to $1000$, we see the approximate solution is more accurate."
   ]
  },
  {
   "cell_type": "code",
   "execution_count": null,
   "metadata": {},
   "outputs": [],
   "source": [
    "X, Y = new_euler((t,y) -> y, 0.0, 1.0, 10, 1000);"
   ]
  },
  {
   "cell_type": "code",
   "execution_count": null,
   "metadata": {
    "scrolled": true
   },
   "outputs": [],
   "source": [
    "plot(layer(x=X, y=Y,Geom.line, color=[colorant\"black\"]), layer(x = X, y=map(t -> exp(t),X), Geom.line,color=[colorant\"darkorchid1\"]))"
   ]
  },
  {
   "cell_type": "markdown",
   "metadata": {},
   "source": [
    "Here is a plot of the relative error--it looks linear"
   ]
  },
  {
   "cell_type": "code",
   "execution_count": null,
   "metadata": {},
   "outputs": [],
   "source": [
    "E = [100*abs((Y[k] - exp((k-1)/100))/exp((k-1)/100)) for k = 1:1001];"
   ]
  },
  {
   "cell_type": "code",
   "execution_count": null,
   "metadata": {},
   "outputs": [],
   "source": [
    "plot(x = X, y = E, Geom.line, color=[colorant\"black\"])"
   ]
  },
  {
   "cell_type": "raw",
   "metadata": {},
   "source": [
    "Let's try the IVP  $\\frac{\\mathrm{d} y}{\\mathrm{d} t} = - 8 y$ and $y(0) = 1$ on the interval $[0,10]$. The\n",
    "true solution is $ y = \\exp(-8 t)$.  Try 25 steps. Yikes! I'm glad we're not attempting to bring humans home from outerpace! The Euler solution goes bonkers"
   ]
  },
  {
   "cell_type": "code",
   "execution_count": null,
   "metadata": {},
   "outputs": [],
   "source": [
    "X, Y = new_euler((t,y) -> -8*y, 0.0, 1.0, 10, 25);"
   ]
  },
  {
   "cell_type": "code",
   "execution_count": null,
   "metadata": {},
   "outputs": [],
   "source": [
    "plot(layer(x=X, y=Y,Geom.point, color=[colorant\"black\"]), layer(x = X, y=map(t -> exp(-8*t),X), Geom.line,color=[colorant\"darkorchid1\"]))"
   ]
  },
  {
   "cell_type": "markdown",
   "metadata": {},
   "source": [
    "Yes--you guessed it--we'll learn the theory behind this. "
   ]
  },
  {
   "cell_type": "markdown",
   "metadata": {},
   "source": [
    "Here is a fun (for me) example. We'll solve the IVP\n",
    "$$\n",
    "   \\frac{\\mathrm{d} y}{\\mathrm{d} t} = \\sqrt{1 - y^4}, \\quad y(0) = 0.\n",
    "$$\n",
    "There is a name for this function: it's a Jacobian elliptic function. And, of course, Julia has a package for that"
   ]
  },
  {
   "cell_type": "code",
   "execution_count": null,
   "metadata": {},
   "outputs": [],
   "source": [
    "using Pkg"
   ]
  },
  {
   "cell_type": "code",
   "execution_count": null,
   "metadata": {},
   "outputs": [],
   "source": [
    "Pkg.add(\"Elliptic\")"
   ]
  },
  {
   "cell_type": "code",
   "execution_count": null,
   "metadata": {},
   "outputs": [],
   "source": [
    "using Elliptic"
   ]
  },
  {
   "cell_type": "markdown",
   "metadata": {},
   "source": [
    "When the solution gets close to $1$, we run the risk that we'll get a domain error from the square root function. But in reality, the solution extends to the entire real line. The function wiggles and is periodic much like the sine function:"
   ]
  },
  {
   "cell_type": "code",
   "execution_count": null,
   "metadata": {},
   "outputs": [],
   "source": [
    "plot(t -> Jacobi.sn(t,-1), 0.0, 10.0,color=[colorant\"darkorchid1\"])"
   ]
  },
  {
   "cell_type": "code",
   "execution_count": null,
   "metadata": {},
   "outputs": [],
   "source": [
    "X, Y = new_euler((t,y) -> sqrt(1-y^4), 0.0, 0.0, 1.25, 100);"
   ]
  },
  {
   "cell_type": "code",
   "execution_count": null,
   "metadata": {
    "scrolled": true
   },
   "outputs": [],
   "source": [
    "plot(layer(x=X,y=Y,Geom.line,color=[colorant\"black\"]), layer(t -> Jacobi.sn(t,-1), 0.0, 1.8, Geom.line,color=[colorant\"darkorchid1\"]))"
   ]
  }
 ],
 "metadata": {
  "kernelspec": {
   "display_name": "Julia 1.5.3",
   "language": "julia",
   "name": "julia-1.5"
  },
  "language_info": {
   "file_extension": ".jl",
   "mimetype": "application/julia",
   "name": "julia",
   "version": "1.5.3"
  }
 },
 "nbformat": 4,
 "nbformat_minor": 2
}
