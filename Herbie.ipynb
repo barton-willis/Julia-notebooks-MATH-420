{
 "cells": [
  {
   "cell_type": "raw",
   "metadata": {},
   "source": [
    "## Subtractive Cancellation\n",
    "\n",
    "__MATH 420__ <br>\n",
    "_Spring 2021_ <br>\n",
    "\n",
    "Herbie is an online tool https://herbie.uwplse.org/demo/ that given the formula for a function, it attempts to find an alternative expression that numerically evaluates more accurately. It outputs its suggestion in the C programming language. We'll convert to Julia by hand. The power function in C is pow.  We'll define a Julia function for pow.\n",
    "\n",
    "\n",
    "Let's try the expression $(1-\\exp(x))/x$.  When $x \\approx 0$ we have $1 - \\exp(x) \\approx 1 - 1$.  So we expect subtractive cancellation when $x$ is near zero. Actually, we have\n",
    "$$\n",
    "   \\lim_{x \\to 0} \\frac{1 - \\exp(x)}{x} = -1\n",
    "$$\n",
    "So when we test this code for $x \\approx 0$, the result should be close to $-1$. Here is what Herbie recommends:"
   ]
  },
  {
   "cell_type": "code",
   "execution_count": null,
   "metadata": {},
   "outputs": [],
   "source": [
    "using Gadfly"
   ]
  },
  {
   "cell_type": "code",
   "execution_count": null,
   "metadata": {},
   "outputs": [],
   "source": [
    "function pow(a,b)\n",
    "    a^b\n",
    "end"
   ]
  },
  {
   "cell_type": "code",
   "execution_count": null,
   "metadata": {},
   "outputs": [],
   "source": [
    "function herbie(x::Float64)\n",
    "    if x <=  -0.0013583059356520257\n",
    "          1.0 / (x / (1.0 - exp(x)))\n",
    "    else\n",
    "        -1.0 + (x * (-0.5 + (x * ((x * -0.041666666666666664) + -0.16666666666666666))))\n",
    "    end\n",
    "end   "
   ]
  },
  {
   "cell_type": "markdown",
   "metadata": {},
   "source": [
    "Let's compare with the non alternative formula:"
   ]
  },
  {
   "cell_type": "code",
   "execution_count": null,
   "metadata": {},
   "outputs": [],
   "source": [
    "function nonherbie(x::Number)\n",
    "    (1-exp(x))/x\n",
    "end"
   ]
  },
  {
   "cell_type": "markdown",
   "metadata": {},
   "source": [
    "For $x$ near zero, here is a graphical comparison:"
   ]
  },
  {
   "cell_type": "code",
   "execution_count": null,
   "metadata": {},
   "outputs": [],
   "source": [
    "plot([herbie, nonherbie], -1.0e-7, 1.0e-7)"
   ]
  },
  {
   "cell_type": "raw",
   "metadata": {},
   "source": [
    "The non Herbie code has _spurious_ oscillations for $x$ near zero, but the Herbie code looks like a line. The crazy oscillations are rubbish. \n",
    "\n",
    "But Herbie's suggestion is wrong for $x$ far way from $0$. I wouldn't trust Herbie to write code for a self-driving car"
   ]
  },
  {
   "cell_type": "code",
   "execution_count": null,
   "metadata": {},
   "outputs": [],
   "source": [
    "plot([herbie, nonherbie], 1,5)"
   ]
  },
  {
   "cell_type": "markdown",
   "metadata": {},
   "source": [
    "Computing $\\exp(x) - 1$ is such a common need (financial calculations, for example), that microprocessors have a built-in way to evaluate it accurately, even when $x \\approx 0$. In Julia, the function name is expm1 (for exp minus one)"
   ]
  },
  {
   "cell_type": "code",
   "execution_count": null,
   "metadata": {},
   "outputs": [],
   "source": [
    "function herbie_alt(x::Number)\n",
    "    -expm1(x)/x\n",
    "end"
   ]
  },
  {
   "cell_type": "markdown",
   "metadata": {},
   "source": [
    "It looks like herbie_alt and herbie agree on the interval $[-10^{-7}, 10^{-7}]$"
   ]
  },
  {
   "cell_type": "code",
   "execution_count": null,
   "metadata": {},
   "outputs": [],
   "source": [
    "plot([herbie, herbie_alt], -1.0e-7, 1.0e-7)"
   ]
  },
  {
   "cell_type": "code",
   "execution_count": null,
   "metadata": {},
   "outputs": [],
   "source": []
  }
 ],
 "metadata": {
  "kernelspec": {
   "display_name": "Julia 1.4.0",
   "language": "julia",
   "name": "julia-1.4"
  },
  "language_info": {
   "file_extension": ".jl",
   "mimetype": "application/julia",
   "name": "julia",
   "version": "1.4.0"
  }
 },
 "nbformat": 4,
 "nbformat_minor": 2
}
